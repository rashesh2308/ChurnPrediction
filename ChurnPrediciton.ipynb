{
 "cells": [
  {
   "cell_type": "code",
   "execution_count": 1,
   "metadata": {},
   "outputs": [],
   "source": [
    "import pandas as pd\n",
    "import seaborn as sns\n",
    "import matplotlib.pyplot as plt\n",
    "import matplotlib\n",
    "from sklearn import metrics\n",
    "%matplotlib inlinetrain.shape"
   ]
  },
  {
   "cell_type": "code",
   "execution_count": 2,
   "metadata": {},
   "outputs": [],
   "source": [
    "train = pd.read_csv(\"Train.csv\")\n",
    "Train_AccountInfo = pd.read_csv(\"Train_AccountInfo.csv\")\n",
    "Train_Demographics = pd.read_csv(\"Train_Demographics.csv\")\n",
    "Train_ServicesOptedFor = pd.read_csv(\"Train_ServicesOptedFor.csv\")"
   ]
  },
  {
   "cell_type": "code",
   "execution_count": 3,
   "metadata": {},
   "outputs": [
    {
     "data": {
      "text/plain": [
       "(5298, 2)"
      ]
     },
     "execution_count": 3,
     "metadata": {},
     "output_type": "execute_result"
    }
   ],
   "source": [
    "train.shape"
   ]
  },
  {
   "cell_type": "code",
   "execution_count": 4,
   "metadata": {},
   "outputs": [
    {
     "data": {
      "text/html": [
       "<div>\n",
       "<style scoped>\n",
       "    .dataframe tbody tr th:only-of-type {\n",
       "        vertical-align: middle;\n",
       "    }\n",
       "\n",
       "    .dataframe tbody tr th {\n",
       "        vertical-align: top;\n",
       "    }\n",
       "\n",
       "    .dataframe thead th {\n",
       "        text-align: right;\n",
       "    }\n",
       "</style>\n",
       "<table border=\"1\" class=\"dataframe\">\n",
       "  <thead>\n",
       "    <tr style=\"text-align: right;\">\n",
       "      <th></th>\n",
       "      <th>CustomerID</th>\n",
       "      <th>Churn</th>\n",
       "    </tr>\n",
       "  </thead>\n",
       "  <tbody>\n",
       "    <tr>\n",
       "      <th>0</th>\n",
       "      <td>Cust4327</td>\n",
       "      <td>Yes</td>\n",
       "    </tr>\n",
       "    <tr>\n",
       "      <th>1</th>\n",
       "      <td>Cust3826</td>\n",
       "      <td>No</td>\n",
       "    </tr>\n",
       "    <tr>\n",
       "      <th>2</th>\n",
       "      <td>Cust6200</td>\n",
       "      <td>No</td>\n",
       "    </tr>\n",
       "    <tr>\n",
       "      <th>3</th>\n",
       "      <td>Cust1467</td>\n",
       "      <td>No</td>\n",
       "    </tr>\n",
       "    <tr>\n",
       "      <th>4</th>\n",
       "      <td>Cust4843</td>\n",
       "      <td>No</td>\n",
       "    </tr>\n",
       "  </tbody>\n",
       "</table>\n",
       "</div>"
      ],
      "text/plain": [
       "  CustomerID Churn\n",
       "0   Cust4327   Yes\n",
       "1   Cust3826    No\n",
       "2   Cust6200    No\n",
       "3   Cust1467    No\n",
       "4   Cust4843    No"
      ]
     },
     "execution_count": 4,
     "metadata": {},
     "output_type": "execute_result"
    }
   ],
   "source": [
    "train.head()"
   ]
  },
  {
   "cell_type": "code",
   "execution_count": 5,
   "metadata": {},
   "outputs": [
    {
     "data": {
      "text/plain": [
       "<matplotlib.axes._subplots.AxesSubplot at 0x12c8db358>"
      ]
     },
     "execution_count": 5,
     "metadata": {},
     "output_type": "execute_result"
    },
    {
     "data": {
      "image/png": "[encoded data removed]",
      "text/plain": [
       "<Figure size 432x288 with 1 Axes>"
      ]
     },
     "metadata": {
      "needs_background": "light"
     },
     "output_type": "display_data"
    }
   ],
   "source": [
    "sns.countplot(x=\"Churn\", data=train)"
   ]
  },
  {
   "cell_type": "markdown",
   "metadata": {},
   "source": [
    "The data is highly imbalanced..\n"
   ]
  },
  {
   "cell_type": "code",
   "execution_count": 6,
   "metadata": {},
   "outputs": [
    {
     "data": {
      "text/html": [
       "<div>\n",
       "<style scoped>\n",
       "    .dataframe tbody tr th:only-of-type {\n",
       "        vertical-align: middle;\n",
       "    }\n",
       "\n",
       "    .dataframe tbody tr th {\n",
       "        vertical-align: top;\n",
       "    }\n",
       "\n",
       "    .dataframe thead th {\n",
       "        text-align: right;\n",
       "    }\n",
       "</style>\n",
       "<table border=\"1\" class=\"dataframe\">\n",
       "  <thead>\n",
       "    <tr style=\"text-align: right;\">\n",
       "      <th></th>\n",
       "      <th>CustomerID</th>\n",
       "      <th>BaseCharges</th>\n",
       "      <th>DOC</th>\n",
       "      <th>TotalCharges</th>\n",
       "      <th>DOE</th>\n",
       "      <th>ElectronicBilling</th>\n",
       "      <th>ContractType</th>\n",
       "      <th>PaymentMethod</th>\n",
       "    </tr>\n",
       "  </thead>\n",
       "  <tbody>\n",
       "    <tr>\n",
       "      <th>0</th>\n",
       "      <td>Cust1450</td>\n",
       "      <td>417.75</td>\n",
       "      <td>5-1-2012</td>\n",
       "      <td>3400.25</td>\n",
       "      <td>10-May-11</td>\n",
       "      <td>Yes</td>\n",
       "      <td>Month-to-month</td>\n",
       "      <td>Electronic check</td>\n",
       "    </tr>\n",
       "    <tr>\n",
       "      <th>1</th>\n",
       "      <td>Cust4452</td>\n",
       "      <td>500.00</td>\n",
       "      <td>5-1-2012</td>\n",
       "      <td>7673.75</td>\n",
       "      <td>12-Sep-10</td>\n",
       "      <td>Yes</td>\n",
       "      <td>Month-to-month</td>\n",
       "      <td>Electronic check</td>\n",
       "    </tr>\n",
       "    <tr>\n",
       "      <th>2</th>\n",
       "      <td>Cust1681</td>\n",
       "      <td>394.00</td>\n",
       "      <td>5-1-2012</td>\n",
       "      <td>8206.5</td>\n",
       "      <td>15-May-10</td>\n",
       "      <td>No</td>\n",
       "      <td>Month-to-month</td>\n",
       "      <td>Electronic check</td>\n",
       "    </tr>\n",
       "    <tr>\n",
       "      <th>3</th>\n",
       "      <td>Cust4761</td>\n",
       "      <td>398.75</td>\n",
       "      <td>5-1-2012</td>\n",
       "      <td>5559.25</td>\n",
       "      <td>12-Oct-10</td>\n",
       "      <td>Yes</td>\n",
       "      <td>Month-to-month</td>\n",
       "      <td>Electronic check</td>\n",
       "    </tr>\n",
       "    <tr>\n",
       "      <th>4</th>\n",
       "      <td>Cust1785</td>\n",
       "      <td>447.25</td>\n",
       "      <td>5-1-2012</td>\n",
       "      <td>4265.5</td>\n",
       "      <td>10-Apr-11</td>\n",
       "      <td>No</td>\n",
       "      <td>Month-to-month</td>\n",
       "      <td>Electronic check</td>\n",
       "    </tr>\n",
       "  </tbody>\n",
       "</table>\n",
       "</div>"
      ],
      "text/plain": [
       "  CustomerID  BaseCharges       DOC TotalCharges        DOE ElectronicBilling  \\\n",
       "0   Cust1450       417.75  5-1-2012      3400.25  10-May-11               Yes   \n",
       "1   Cust4452       500.00  5-1-2012      7673.75  12-Sep-10               Yes   \n",
       "2   Cust1681       394.00  5-1-2012       8206.5  15-May-10                No   \n",
       "3   Cust4761       398.75  5-1-2012      5559.25  12-Oct-10               Yes   \n",
       "4   Cust1785       447.25  5-1-2012       4265.5  10-Apr-11                No   \n",
       "\n",
       "     ContractType     PaymentMethod  \n",
       "0  Month-to-month  Electronic check  \n",
       "1  Month-to-month  Electronic check  \n",
       "2  Month-to-month  Electronic check  \n",
       "3  Month-to-month  Electronic check  \n",
       "4  Month-to-month  Electronic check  "
      ]
     },
     "execution_count": 6,
     "metadata": {},
     "output_type": "execute_result"
    }
   ],
   "source": [
    "Train_AccountInfo.shape\n",
    "Train_AccountInfo.head()"
   ]
  },
  {
   "cell_type": "code",
   "execution_count": 7,
   "metadata": {},
   "outputs": [
    {
     "data": {
      "text/html": [
       "<div>\n",
       "<style scoped>\n",
       "    .dataframe tbody tr th:only-of-type {\n",
       "        vertical-align: middle;\n",
       "    }\n",
       "\n",
       "    .dataframe tbody tr th {\n",
       "        vertical-align: top;\n",
       "    }\n",
       "\n",
       "    .dataframe thead th {\n",
       "        text-align: right;\n",
       "    }\n",
       "</style>\n",
       "<table border=\"1\" class=\"dataframe\">\n",
       "  <thead>\n",
       "    <tr style=\"text-align: right;\">\n",
       "      <th></th>\n",
       "      <th>CustomerID</th>\n",
       "      <th>Churn</th>\n",
       "    </tr>\n",
       "  </thead>\n",
       "  <tbody>\n",
       "    <tr>\n",
       "      <th>3817</th>\n",
       "      <td>Cust1450</td>\n",
       "      <td>Yes</td>\n",
       "    </tr>\n",
       "  </tbody>\n",
       "</table>\n",
       "</div>"
      ],
      "text/plain": [
       "     CustomerID Churn\n",
       "3817   Cust1450   Yes"
      ]
     },
     "execution_count": 7,
     "metadata": {},
     "output_type": "execute_result"
    }
   ],
   "source": [
    "#taking the first record in train_accounntinfo and checking in train data to know wheeather to merge or not\n",
    "train[train.CustomerID == \"Cust1450\"]"
   ]
  },
  {
   "cell_type": "markdown",
   "metadata": {},
   "source": [
    "# Data Cleaning "
   ]
  },
  {
   "cell_type": "code",
   "execution_count": 8,
   "metadata": {},
   "outputs": [
    {
     "data": {
      "text/html": [
       "<div>\n",
       "<style scoped>\n",
       "    .dataframe tbody tr th:only-of-type {\n",
       "        vertical-align: middle;\n",
       "    }\n",
       "\n",
       "    .dataframe tbody tr th {\n",
       "        vertical-align: top;\n",
       "    }\n",
       "\n",
       "    .dataframe thead th {\n",
       "        text-align: right;\n",
       "    }\n",
       "</style>\n",
       "<table border=\"1\" class=\"dataframe\">\n",
       "  <thead>\n",
       "    <tr style=\"text-align: right;\">\n",
       "      <th></th>\n",
       "      <th>CustomerID</th>\n",
       "      <th>BaseCharges</th>\n",
       "      <th>DOC</th>\n",
       "      <th>TotalCharges</th>\n",
       "      <th>DOE</th>\n",
       "      <th>ElectronicBilling</th>\n",
       "      <th>ContractType</th>\n",
       "      <th>PaymentMethod</th>\n",
       "      <th>Churn</th>\n",
       "    </tr>\n",
       "  </thead>\n",
       "  <tbody>\n",
       "    <tr>\n",
       "      <th>0</th>\n",
       "      <td>Cust1450</td>\n",
       "      <td>417.75</td>\n",
       "      <td>5-1-2012</td>\n",
       "      <td>3400.25</td>\n",
       "      <td>10-May-11</td>\n",
       "      <td>Yes</td>\n",
       "      <td>Month-to-month</td>\n",
       "      <td>Electronic check</td>\n",
       "      <td>Yes</td>\n",
       "    </tr>\n",
       "  </tbody>\n",
       "</table>\n",
       "</div>"
      ],
      "text/plain": [
       "  CustomerID  BaseCharges       DOC TotalCharges        DOE ElectronicBilling  \\\n",
       "0   Cust1450       417.75  5-1-2012      3400.25  10-May-11               Yes   \n",
       "\n",
       "     ContractType     PaymentMethod Churn  \n",
       "0  Month-to-month  Electronic check   Yes  "
      ]
     },
     "execution_count": 8,
     "metadata": {},
     "output_type": "execute_result"
    }
   ],
   "source": [
    "#merging two dataframes with customerid attribute\n",
    "train_train_account= pd.merge(Train_AccountInfo,train,on=\"CustomerID\")\n",
    "train_train_account[train_train_account.CustomerID == \"Cust1450\"] #checking the merged dataframe"
   ]
  },
  {
   "cell_type": "code",
   "execution_count": 9,
   "metadata": {},
   "outputs": [
    {
     "name": "stdout",
     "output_type": "stream",
     "text": [
      "(5298, 8)\n"
     ]
    },
    {
     "data": {
      "text/html": [
       "<div>\n",
       "<style scoped>\n",
       "    .dataframe tbody tr th:only-of-type {\n",
       "        vertical-align: middle;\n",
       "    }\n",
       "\n",
       "    .dataframe tbody tr th {\n",
       "        vertical-align: top;\n",
       "    }\n",
       "\n",
       "    .dataframe thead th {\n",
       "        text-align: right;\n",
       "    }\n",
       "</style>\n",
       "<table border=\"1\" class=\"dataframe\">\n",
       "  <thead>\n",
       "    <tr style=\"text-align: right;\">\n",
       "      <th></th>\n",
       "      <th>HouseholdID</th>\n",
       "      <th>Country</th>\n",
       "      <th>State</th>\n",
       "      <th>Retired</th>\n",
       "      <th>HasPartner</th>\n",
       "      <th>HasDependents</th>\n",
       "      <th>Education</th>\n",
       "      <th>Gender</th>\n",
       "    </tr>\n",
       "  </thead>\n",
       "  <tbody>\n",
       "    <tr>\n",
       "      <th>453</th>\n",
       "      <td>Cust1450</td>\n",
       "      <td>India</td>\n",
       "      <td>Maharashtra</td>\n",
       "      <td>0</td>\n",
       "      <td>1</td>\n",
       "      <td>1</td>\n",
       "      <td>Highschool or below</td>\n",
       "      <td>Female</td>\n",
       "    </tr>\n",
       "  </tbody>\n",
       "</table>\n",
       "</div>"
      ],
      "text/plain": [
       "    HouseholdID Country        State  Retired  HasPartner  HasDependents  \\\n",
       "453    Cust1450   India  Maharashtra        0           1              1   \n",
       "\n",
       "               Education  Gender  \n",
       "453  Highschool or below  Female  "
      ]
     },
     "execution_count": 9,
     "metadata": {},
     "output_type": "execute_result"
    }
   ],
   "source": [
    "#Train_Demographics\n",
    "print(Train_Demographics.shape)\n",
    "Train_Demographics.head()\n",
    "Train_Demographics[Train_Demographics.HouseholdID == \"Cust1450\"]"
   ]
  },
  {
   "cell_type": "code",
   "execution_count": 10,
   "metadata": {},
   "outputs": [
    {
     "data": {
      "text/html": [
       "<div>\n",
       "<style scoped>\n",
       "    .dataframe tbody tr th:only-of-type {\n",
       "        vertical-align: middle;\n",
       "    }\n",
       "\n",
       "    .dataframe tbody tr th {\n",
       "        vertical-align: top;\n",
       "    }\n",
       "\n",
       "    .dataframe thead th {\n",
       "        text-align: right;\n",
       "    }\n",
       "</style>\n",
       "<table border=\"1\" class=\"dataframe\">\n",
       "  <thead>\n",
       "    <tr style=\"text-align: right;\">\n",
       "      <th></th>\n",
       "      <th>CustomerID</th>\n",
       "      <th>Country</th>\n",
       "      <th>State</th>\n",
       "      <th>Retired</th>\n",
       "      <th>HasPartner</th>\n",
       "      <th>HasDependents</th>\n",
       "      <th>Education</th>\n",
       "      <th>Gender</th>\n",
       "      <th>BaseCharges</th>\n",
       "      <th>DOC</th>\n",
       "      <th>TotalCharges</th>\n",
       "      <th>DOE</th>\n",
       "      <th>ElectronicBilling</th>\n",
       "      <th>ContractType</th>\n",
       "      <th>PaymentMethod</th>\n",
       "      <th>Churn</th>\n",
       "    </tr>\n",
       "  </thead>\n",
       "  <tbody>\n",
       "    <tr>\n",
       "      <th>0</th>\n",
       "      <td>Cust5390</td>\n",
       "      <td>India</td>\n",
       "      <td>Maharashtra</td>\n",
       "      <td>0</td>\n",
       "      <td>2</td>\n",
       "      <td>2</td>\n",
       "      <td>Graduation</td>\n",
       "      <td>Female</td>\n",
       "      <td>106.0</td>\n",
       "      <td>5-1-2012</td>\n",
       "      <td>1113.25</td>\n",
       "      <td>11-Mar-11</td>\n",
       "      <td>Yes</td>\n",
       "      <td>Month-to-month</td>\n",
       "      <td>Electronic check</td>\n",
       "      <td>No</td>\n",
       "    </tr>\n",
       "    <tr>\n",
       "      <th>1</th>\n",
       "      <td>Cust4417</td>\n",
       "      <td>India</td>\n",
       "      <td>Maharashtra</td>\n",
       "      <td>1</td>\n",
       "      <td>1</td>\n",
       "      <td>2</td>\n",
       "      <td>Highschool or below</td>\n",
       "      <td>Male</td>\n",
       "      <td>473.0</td>\n",
       "      <td>5-1-2012</td>\n",
       "      <td>1397.75</td>\n",
       "      <td>7-Oct-11</td>\n",
       "      <td>Yes</td>\n",
       "      <td>Month-to-month</td>\n",
       "      <td>Electronic check</td>\n",
       "      <td>Yes</td>\n",
       "    </tr>\n",
       "  </tbody>\n",
       "</table>\n",
       "</div>"
      ],
      "text/plain": [
       "  CustomerID Country        State  Retired  HasPartner  HasDependents  \\\n",
       "0   Cust5390   India  Maharashtra        0           2              2   \n",
       "1   Cust4417   India  Maharashtra        1           1              2   \n",
       "\n",
       "             Education  Gender  BaseCharges       DOC TotalCharges        DOE  \\\n",
       "0           Graduation  Female        106.0  5-1-2012      1113.25  11-Mar-11   \n",
       "1  Highschool or below    Male        473.0  5-1-2012      1397.75   7-Oct-11   \n",
       "\n",
       "  ElectronicBilling    ContractType     PaymentMethod Churn  \n",
       "0               Yes  Month-to-month  Electronic check    No  \n",
       "1               Yes  Month-to-month  Electronic check   Yes  "
      ]
     },
     "execution_count": 10,
     "metadata": {},
     "output_type": "execute_result"
    }
   ],
   "source": [
    "#renaming a column to match\n",
    "Train_Demographics = Train_Demographics.rename(columns={ \"HouseholdID\" : \"CustomerID\"})\n",
    "#Train_Demographics['HouseholdID'] = \"CustomerID\"\n",
    "train_account_demo = pd.merge(Train_Demographics,train_train_account, on=\"CustomerID\")\n",
    "train_account_demo.head(2)"
   ]
  },
  {
   "cell_type": "code",
   "execution_count": 11,
   "metadata": {},
   "outputs": [
    {
     "data": {
      "text/html": [
       "<div>\n",
       "<style scoped>\n",
       "    .dataframe tbody tr th:only-of-type {\n",
       "        vertical-align: middle;\n",
       "    }\n",
       "\n",
       "    .dataframe tbody tr th {\n",
       "        vertical-align: top;\n",
       "    }\n",
       "\n",
       "    .dataframe thead th {\n",
       "        text-align: right;\n",
       "    }\n",
       "</style>\n",
       "<table border=\"1\" class=\"dataframe\">\n",
       "  <thead>\n",
       "    <tr style=\"text-align: right;\">\n",
       "      <th></th>\n",
       "      <th>CustomerID</th>\n",
       "      <th>TypeOfService</th>\n",
       "      <th>SeviceDetails</th>\n",
       "    </tr>\n",
       "  </thead>\n",
       "  <tbody>\n",
       "    <tr>\n",
       "      <th>11101</th>\n",
       "      <td>Cust1255</td>\n",
       "      <td>OnlineSecurity</td>\n",
       "      <td>No</td>\n",
       "    </tr>\n",
       "    <tr>\n",
       "      <th>12988</th>\n",
       "      <td>Cust1255</td>\n",
       "      <td>StreamingMovies</td>\n",
       "      <td>Yes</td>\n",
       "    </tr>\n",
       "    <tr>\n",
       "      <th>27062</th>\n",
       "      <td>Cust1255</td>\n",
       "      <td>InternetServiceCategory</td>\n",
       "      <td>DSL</td>\n",
       "    </tr>\n",
       "    <tr>\n",
       "      <th>31521</th>\n",
       "      <td>Cust1255</td>\n",
       "      <td>StreamingTelevision</td>\n",
       "      <td>Yes</td>\n",
       "    </tr>\n",
       "    <tr>\n",
       "      <th>32944</th>\n",
       "      <td>Cust1255</td>\n",
       "      <td>TechnicalSupport</td>\n",
       "      <td>No</td>\n",
       "    </tr>\n",
       "    <tr>\n",
       "      <th>39891</th>\n",
       "      <td>Cust1255</td>\n",
       "      <td>OnlineBackup</td>\n",
       "      <td>No</td>\n",
       "    </tr>\n",
       "    <tr>\n",
       "      <th>43740</th>\n",
       "      <td>Cust1255</td>\n",
       "      <td>HasPhoneService</td>\n",
       "      <td>1</td>\n",
       "    </tr>\n",
       "    <tr>\n",
       "      <th>45015</th>\n",
       "      <td>Cust1255</td>\n",
       "      <td>MultipleLines</td>\n",
       "      <td>No</td>\n",
       "    </tr>\n",
       "    <tr>\n",
       "      <th>45697</th>\n",
       "      <td>Cust1255</td>\n",
       "      <td>DeviceProtection</td>\n",
       "      <td>No</td>\n",
       "    </tr>\n",
       "  </tbody>\n",
       "</table>\n",
       "</div>"
      ],
      "text/plain": [
       "      CustomerID            TypeOfService SeviceDetails\n",
       "11101   Cust1255           OnlineSecurity            No\n",
       "12988   Cust1255          StreamingMovies           Yes\n",
       "27062   Cust1255  InternetServiceCategory           DSL\n",
       "31521   Cust1255      StreamingTelevision           Yes\n",
       "32944   Cust1255         TechnicalSupport            No\n",
       "39891   Cust1255             OnlineBackup            No\n",
       "43740   Cust1255          HasPhoneService             1\n",
       "45015   Cust1255            MultipleLines            No\n",
       "45697   Cust1255         DeviceProtection            No"
      ]
     },
     "execution_count": 11,
     "metadata": {},
     "output_type": "execute_result"
    }
   ],
   "source": [
    "Train_ServicesOptedFor[Train_ServicesOptedFor.CustomerID == \"Cust1255\"]"
   ]
  },
  {
   "cell_type": "code",
   "execution_count": 12,
   "metadata": {},
   "outputs": [
    {
     "data": {
      "text/plain": [
       "No                     17410\n",
       "Yes                    13390\n",
       "No internet service     6936\n",
       "1                       4792\n",
       "Fiber optic             2313\n",
       "DSL                     1829\n",
       "0                        506\n",
       "No phone service         506\n",
       "Name: SeviceDetails, dtype: int64"
      ]
     },
     "execution_count": 12,
     "metadata": {},
     "output_type": "execute_result"
    }
   ],
   "source": [
    "Train_ServicesOptedFor.SeviceDetails.value_counts()"
   ]
  },
  {
   "cell_type": "markdown",
   "metadata": {},
   "source": [
    "The services opted by different users is different  \n",
    "Lets replace the values where the customer did not subscribe with NO  \n",
    "Replace values where the customer subscribed with YES  \n",
    "\n"
   ]
  },
  {
   "cell_type": "code",
   "execution_count": 13,
   "metadata": {},
   "outputs": [],
   "source": [
    "Train_ServicesOptedFor.SeviceDetails[Train_ServicesOptedFor.SeviceDetails == \"1\"] = \"Yes\"\n",
    "Train_ServicesOptedFor.SeviceDetails[Train_ServicesOptedFor.SeviceDetails == \"No internet service\"] = \"No\"\n",
    "Train_ServicesOptedFor.SeviceDetails[Train_ServicesOptedFor.SeviceDetails == \"0\"] = \"No\"\n",
    "Train_ServicesOptedFor.SeviceDetails[Train_ServicesOptedFor.SeviceDetails == \"Fiber optic\"] = \"Yes\"\n",
    "Train_ServicesOptedFor.SeviceDetails[Train_ServicesOptedFor.SeviceDetails == \"DSL\"] = \"Yes\"\n",
    "Train_ServicesOptedFor.SeviceDetails[Train_ServicesOptedFor.SeviceDetails == \"No phone service\"] = \"No\""
   ]
  },
  {
   "cell_type": "code",
   "execution_count": 14,
   "metadata": {},
   "outputs": [
    {
     "data": {
      "text/html": [
       "<div>\n",
       "<style scoped>\n",
       "    .dataframe tbody tr th:only-of-type {\n",
       "        vertical-align: middle;\n",
       "    }\n",
       "\n",
       "    .dataframe tbody tr th {\n",
       "        vertical-align: top;\n",
       "    }\n",
       "\n",
       "    .dataframe thead th {\n",
       "        text-align: right;\n",
       "    }\n",
       "</style>\n",
       "<table border=\"1\" class=\"dataframe\">\n",
       "  <thead>\n",
       "    <tr style=\"text-align: right;\">\n",
       "      <th></th>\n",
       "      <th>CustomerID</th>\n",
       "      <th>TypeOfService</th>\n",
       "      <th>SeviceDetails</th>\n",
       "    </tr>\n",
       "  </thead>\n",
       "  <tbody>\n",
       "    <tr>\n",
       "      <th>6370</th>\n",
       "      <td>Cust1450</td>\n",
       "      <td>OnlineBackup</td>\n",
       "      <td>Yes</td>\n",
       "    </tr>\n",
       "    <tr>\n",
       "      <th>11382</th>\n",
       "      <td>Cust1450</td>\n",
       "      <td>StreamingTelevision</td>\n",
       "      <td>Yes</td>\n",
       "    </tr>\n",
       "    <tr>\n",
       "      <th>15920</th>\n",
       "      <td>Cust1450</td>\n",
       "      <td>MultipleLines</td>\n",
       "      <td>No</td>\n",
       "    </tr>\n",
       "    <tr>\n",
       "      <th>16571</th>\n",
       "      <td>Cust1450</td>\n",
       "      <td>HasPhoneService</td>\n",
       "      <td>Yes</td>\n",
       "    </tr>\n",
       "    <tr>\n",
       "      <th>21779</th>\n",
       "      <td>Cust1450</td>\n",
       "      <td>InternetServiceCategory</td>\n",
       "      <td>Yes</td>\n",
       "    </tr>\n",
       "    <tr>\n",
       "      <th>23155</th>\n",
       "      <td>Cust1450</td>\n",
       "      <td>StreamingMovies</td>\n",
       "      <td>No</td>\n",
       "    </tr>\n",
       "    <tr>\n",
       "      <th>43356</th>\n",
       "      <td>Cust1450</td>\n",
       "      <td>TechnicalSupport</td>\n",
       "      <td>No</td>\n",
       "    </tr>\n",
       "    <tr>\n",
       "      <th>45183</th>\n",
       "      <td>Cust1450</td>\n",
       "      <td>DeviceProtection</td>\n",
       "      <td>No</td>\n",
       "    </tr>\n",
       "    <tr>\n",
       "      <th>47386</th>\n",
       "      <td>Cust1450</td>\n",
       "      <td>OnlineSecurity</td>\n",
       "      <td>No</td>\n",
       "    </tr>\n",
       "  </tbody>\n",
       "</table>\n",
       "</div>"
      ],
      "text/plain": [
       "      CustomerID            TypeOfService SeviceDetails\n",
       "6370    Cust1450             OnlineBackup           Yes\n",
       "11382   Cust1450      StreamingTelevision           Yes\n",
       "15920   Cust1450            MultipleLines            No\n",
       "16571   Cust1450          HasPhoneService           Yes\n",
       "21779   Cust1450  InternetServiceCategory           Yes\n",
       "23155   Cust1450          StreamingMovies            No\n",
       "43356   Cust1450         TechnicalSupport            No\n",
       "45183   Cust1450         DeviceProtection            No\n",
       "47386   Cust1450           OnlineSecurity            No"
      ]
     },
     "execution_count": 14,
     "metadata": {},
     "output_type": "execute_result"
    }
   ],
   "source": [
    "Train_ServicesOptedFor[Train_ServicesOptedFor.CustomerID == \"Cust1450\"]"
   ]
  },
  {
   "cell_type": "code",
   "execution_count": 15,
   "metadata": {},
   "outputs": [],
   "source": [
    "#remove records that have NO and the we will have the services that each customer has chosen\n",
    "#now lets dummify those services \n",
    "yes_train_service = Train_ServicesOptedFor[Train_ServicesOptedFor.SeviceDetails != 'No']\n",
    "yes_train_service = yes_train_service.sort_values(by=['TypeOfService'], ascending=['True'])\n",
    "ff = pd.get_dummies(yes_train_service, prefix=['TypeOfService'],\n",
    "               columns=['TypeOfService'])"
   ]
  },
  {
   "cell_type": "code",
   "execution_count": 16,
   "metadata": {},
   "outputs": [
    {
     "data": {
      "text/html": [
       "<div>\n",
       "<style scoped>\n",
       "    .dataframe tbody tr th:only-of-type {\n",
       "        vertical-align: middle;\n",
       "    }\n",
       "\n",
       "    .dataframe tbody tr th {\n",
       "        vertical-align: top;\n",
       "    }\n",
       "\n",
       "    .dataframe thead th {\n",
       "        text-align: right;\n",
       "    }\n",
       "</style>\n",
       "<table border=\"1\" class=\"dataframe\">\n",
       "  <thead>\n",
       "    <tr style=\"text-align: right;\">\n",
       "      <th></th>\n",
       "      <th>CustomerID</th>\n",
       "      <th>TypeOfService_DeviceProtection</th>\n",
       "      <th>TypeOfService_HasPhoneService</th>\n",
       "      <th>TypeOfService_InternetServiceCategory</th>\n",
       "      <th>TypeOfService_StreamingMovies</th>\n",
       "      <th>TypeOfService_StreamingTelevision</th>\n",
       "      <th>TypeOfService_OnlineBackup</th>\n",
       "      <th>TypeOfService_OnlineSecurity</th>\n",
       "      <th>TypeOfService_MultipleLines</th>\n",
       "      <th>TypeOfService_TechnicalSupport</th>\n",
       "      <th>...</th>\n",
       "      <th>Education</th>\n",
       "      <th>Gender</th>\n",
       "      <th>BaseCharges</th>\n",
       "      <th>DOC</th>\n",
       "      <th>TotalCharges</th>\n",
       "      <th>DOE</th>\n",
       "      <th>ElectronicBilling</th>\n",
       "      <th>ContractType</th>\n",
       "      <th>PaymentMethod</th>\n",
       "      <th>Churn</th>\n",
       "    </tr>\n",
       "  </thead>\n",
       "  <tbody>\n",
       "    <tr>\n",
       "      <th>0</th>\n",
       "      <td>Cust1201</td>\n",
       "      <td>1</td>\n",
       "      <td>1</td>\n",
       "      <td>1</td>\n",
       "      <td>1</td>\n",
       "      <td>1</td>\n",
       "      <td>0</td>\n",
       "      <td>0</td>\n",
       "      <td>0</td>\n",
       "      <td>0</td>\n",
       "      <td>...</td>\n",
       "      <td>Masters</td>\n",
       "      <td>Male</td>\n",
       "      <td>478.50</td>\n",
       "      <td>5-1-2012</td>\n",
       "      <td>5920</td>\n",
       "      <td>10-Jan-11</td>\n",
       "      <td>No</td>\n",
       "      <td>One year</td>\n",
       "      <td>Electronic check</td>\n",
       "      <td>No</td>\n",
       "    </tr>\n",
       "    <tr>\n",
       "      <th>1</th>\n",
       "      <td>Cust1202</td>\n",
       "      <td>1</td>\n",
       "      <td>0</td>\n",
       "      <td>0</td>\n",
       "      <td>0</td>\n",
       "      <td>0</td>\n",
       "      <td>0</td>\n",
       "      <td>0</td>\n",
       "      <td>0</td>\n",
       "      <td>0</td>\n",
       "      <td>...</td>\n",
       "      <td>ProfessionalQalification</td>\n",
       "      <td>Male</td>\n",
       "      <td>103.25</td>\n",
       "      <td>5-1-2012</td>\n",
       "      <td>103.25</td>\n",
       "      <td>6-Dec-11</td>\n",
       "      <td>No</td>\n",
       "      <td>Month-to-month</td>\n",
       "      <td>Electronic check</td>\n",
       "      <td>No</td>\n",
       "    </tr>\n",
       "  </tbody>\n",
       "</table>\n",
       "<p>2 rows × 25 columns</p>\n",
       "</div>"
      ],
      "text/plain": [
       "  CustomerID  TypeOfService_DeviceProtection  TypeOfService_HasPhoneService  \\\n",
       "0   Cust1201                               1                              1   \n",
       "1   Cust1202                               1                              0   \n",
       "\n",
       "   TypeOfService_InternetServiceCategory  TypeOfService_StreamingMovies  \\\n",
       "0                                      1                              1   \n",
       "1                                      0                              0   \n",
       "\n",
       "   TypeOfService_StreamingTelevision  TypeOfService_OnlineBackup  \\\n",
       "0                                  1                           0   \n",
       "1                                  0                           0   \n",
       "\n",
       "   TypeOfService_OnlineSecurity  TypeOfService_MultipleLines  \\\n",
       "0                             0                            0   \n",
       "1                             0                            0   \n",
       "\n",
       "   TypeOfService_TechnicalSupport  ...                 Education Gender  \\\n",
       "0                               0  ...                   Masters   Male   \n",
       "1                               0  ...  ProfessionalQalification   Male   \n",
       "\n",
       "   BaseCharges       DOC  TotalCharges        DOE ElectronicBilling  \\\n",
       "0       478.50  5-1-2012          5920  10-Jan-11                No   \n",
       "1       103.25  5-1-2012        103.25   6-Dec-11                No   \n",
       "\n",
       "     ContractType     PaymentMethod Churn  \n",
       "0        One year  Electronic check    No  \n",
       "1  Month-to-month  Electronic check    No  \n",
       "\n",
       "[2 rows x 25 columns]"
      ]
     },
     "execution_count": 16,
     "metadata": {},
     "output_type": "execute_result"
    }
   ],
   "source": [
    "## we have multiple records with same customer id as a customer minght be sbscribed to many services\n",
    "#hence adding the multiple rows to single rows\n",
    "xx = ff.groupby('CustomerID')['SeviceDetails'].apply(lambda x: pd.DataFrame(x.values)).unstack().reset_index()\n",
    "xx.columns = xx.columns.droplevel()\n",
    "xx.columns = ['CustomerID','TypeOfService_DeviceProtection', 'TypeOfService_HasPhoneService', \n",
    "              'TypeOfService_InternetServiceCategory','TypeOfService_StreamingMovies','TypeOfService_StreamingTelevision',\n",
    "              'TypeOfService_OnlineBackup','TypeOfService_OnlineSecurity',\n",
    "             'TypeOfService_MultipleLines',\n",
    "              'TypeOfService_TechnicalSupport']\n",
    "xx = xx.replace({'Yes': 1, None: 0})\n",
    "train_account_demo = pd.merge(xx,train_account_demo, on=\"CustomerID\",how='inner')\n",
    "train_account_demo.head(2) #we have dummified dataset with 1 in the service customer subscribed"
   ]
  },
  {
   "cell_type": "markdown",
   "metadata": {},
   "source": [
    "# Data Visualization"
   ]
  },
  {
   "cell_type": "code",
   "execution_count": 17,
   "metadata": {},
   "outputs": [
    {
     "data": {
      "text/plain": [
       "<matplotlib.axes._subplots.AxesSubplot at 0x12c95fd30>"
      ]
     },
     "execution_count": 17,
     "metadata": {},
     "output_type": "execute_result"
    },
    {
     "data": {
      "image/png": "[encoded data removed]",
      "text/plain": [
       "<Figure size 1080x720 with 1 Axes>"
      ]
     },
     "metadata": {
      "needs_background": "light"
     },
     "output_type": "display_data"
    }
   ],
   "source": [
    "#distribution of education\n",
    "fig, ax = plt.subplots(figsize=(15,10)) \n",
    "sns.countplot(x=\"Education\", data=train_account_demo)"
   ]
  },
  {
   "cell_type": "code",
   "execution_count": 18,
   "metadata": {},
   "outputs": [
    {
     "data": {
      "text/plain": [
       "<matplotlib.axes._subplots.AxesSubplot at 0x12d579c88>"
      ]
     },
     "execution_count": 18,
     "metadata": {},
     "output_type": "execute_result"
    },
    {
     "data": {
      "image/png": "[encoded data removed]",
      "text/plain": [
       "<Figure size 432x432 with 1 Axes>"
      ]
     },
     "metadata": {
      "needs_background": "light"
     },
     "output_type": "display_data"
    }
   ],
   "source": [
    "fig, ax = plt.subplots(figsize=(6,6)) \n",
    "sns.countplot(x=\"ElectronicBilling\", data=train_account_demo)"
   ]
  },
  {
   "cell_type": "code",
   "execution_count": 19,
   "metadata": {},
   "outputs": [
    {
     "data": {
      "text/plain": [
       "<matplotlib.axes._subplots.AxesSubplot at 0x12d60ca58>"
      ]
     },
     "execution_count": 19,
     "metadata": {},
     "output_type": "execute_result"
    },
    {
     "data": {
      "image/png": "[encoded data removed]",
      "text/plain": [
       "<Figure size 1008x576 with 1 Axes>"
      ]
     },
     "metadata": {
      "needs_background": "light"
     },
     "output_type": "display_data"
    }
   ],
   "source": [
    "fig, ax = plt.subplots(figsize=(14,8)) \n",
    "sns.countplot(x=\"PaymentMethod\", data=train_account_demo)"
   ]
  },
  {
   "cell_type": "code",
   "execution_count": 20,
   "metadata": {},
   "outputs": [
    {
     "data": {
      "text/plain": [
       "<matplotlib.axes._subplots.AxesSubplot at 0x12d671048>"
      ]
     },
     "execution_count": 20,
     "metadata": {},
     "output_type": "execute_result"
    },
    {
     "data": {
      "image/png": "[encoded data removed]",
      "text/plain": [
       "<Figure size 720x576 with 1 Axes>"
      ]
     },
     "metadata": {
      "needs_background": "light"
     },
     "output_type": "display_data"
    }
   ],
   "source": [
    "train_account_demo_group = train_account_demo.groupby(['Education','Churn']).size()\n",
    "train_account_demo_group_stack = train_account_demo_group.unstack(1).fillna('0')\n",
    "train_account_demo_group_stack.plot(kind='bar',label='Education',figsize=(10,8),\n",
    "                                   title='Qualification and Churn',grid=True,legend='True',\n",
    "                                   fontsize=12, rot='horizontal')"
   ]
  },
  {
   "cell_type": "code",
   "execution_count": 21,
   "metadata": {},
   "outputs": [
    {
     "data": {
      "text/plain": [
       "<matplotlib.axes._subplots.AxesSubplot at 0x12d6f3780>"
      ]
     },
     "execution_count": 21,
     "metadata": {},
     "output_type": "execute_result"
    },
    {
     "data": {
      "image/png": "[encoded data removed]",
      "text/plain": [
       "<Figure size 720x576 with 1 Axes>"
      ]
     },
     "metadata": {
      "needs_background": "light"
     },
     "output_type": "display_data"
    }
   ],
   "source": [
    "train_account_demo_group = train_account_demo.groupby(['Gender','Churn']).size()\n",
    "train_account_demo_group_stack = train_account_demo_group.unstack(1).fillna('0')\n",
    "train_account_demo_group_stack.plot(kind='bar',label='Education',figsize=(10,8),\n",
    "                                   title='Gender and Churn',grid=True,legend='True',\n",
    "                                   fontsize=12, rot='horizontal')"
   ]
  },
  {
   "cell_type": "code",
   "execution_count": 22,
   "metadata": {},
   "outputs": [
    {
     "name": "stdout",
     "output_type": "stream",
     "text": [
      "(1324, 25)\n",
      "(3974, 25)\n",
      "(2648, 25)\n"
     ]
    },
    {
     "data": {
      "text/html": [
       "<div>\n",
       "<style scoped>\n",
       "    .dataframe tbody tr th:only-of-type {\n",
       "        vertical-align: middle;\n",
       "    }\n",
       "\n",
       "    .dataframe tbody tr th {\n",
       "        vertical-align: top;\n",
       "    }\n",
       "\n",
       "    .dataframe thead th {\n",
       "        text-align: right;\n",
       "    }\n",
       "</style>\n",
       "<table border=\"1\" class=\"dataframe\">\n",
       "  <thead>\n",
       "    <tr style=\"text-align: right;\">\n",
       "      <th></th>\n",
       "      <th>CustomerID</th>\n",
       "      <th>TypeOfService_DeviceProtection</th>\n",
       "      <th>TypeOfService_HasPhoneService</th>\n",
       "      <th>TypeOfService_InternetServiceCategory</th>\n",
       "      <th>TypeOfService_StreamingMovies</th>\n",
       "      <th>TypeOfService_StreamingTelevision</th>\n",
       "      <th>TypeOfService_OnlineBackup</th>\n",
       "      <th>TypeOfService_OnlineSecurity</th>\n",
       "      <th>TypeOfService_MultipleLines</th>\n",
       "      <th>TypeOfService_TechnicalSupport</th>\n",
       "      <th>...</th>\n",
       "      <th>Education</th>\n",
       "      <th>Gender</th>\n",
       "      <th>BaseCharges</th>\n",
       "      <th>DOC</th>\n",
       "      <th>TotalCharges</th>\n",
       "      <th>DOE</th>\n",
       "      <th>ElectronicBilling</th>\n",
       "      <th>ContractType</th>\n",
       "      <th>PaymentMethod</th>\n",
       "      <th>Churn</th>\n",
       "    </tr>\n",
       "  </thead>\n",
       "  <tbody>\n",
       "    <tr>\n",
       "      <th>0</th>\n",
       "      <td>Cust1205</td>\n",
       "      <td>1</td>\n",
       "      <td>1</td>\n",
       "      <td>1</td>\n",
       "      <td>0</td>\n",
       "      <td>0</td>\n",
       "      <td>0</td>\n",
       "      <td>0</td>\n",
       "      <td>0</td>\n",
       "      <td>0</td>\n",
       "      <td>...</td>\n",
       "      <td>ProfessionalQalification</td>\n",
       "      <td>Female</td>\n",
       "      <td>372.5</td>\n",
       "      <td>5-1-2012</td>\n",
       "      <td>372.5</td>\n",
       "      <td>6-Dec-11</td>\n",
       "      <td>Yes</td>\n",
       "      <td>Month-to-month</td>\n",
       "      <td>Electronic check</td>\n",
       "      <td>Yes</td>\n",
       "    </tr>\n",
       "    <tr>\n",
       "      <th>1</th>\n",
       "      <td>Cust1213</td>\n",
       "      <td>1</td>\n",
       "      <td>1</td>\n",
       "      <td>1</td>\n",
       "      <td>0</td>\n",
       "      <td>0</td>\n",
       "      <td>0</td>\n",
       "      <td>0</td>\n",
       "      <td>0</td>\n",
       "      <td>0</td>\n",
       "      <td>...</td>\n",
       "      <td>ProfessionalQalification</td>\n",
       "      <td>Female</td>\n",
       "      <td>397.0</td>\n",
       "      <td>5-1-2012</td>\n",
       "      <td>1223.25</td>\n",
       "      <td>7-Oct-11</td>\n",
       "      <td>Yes</td>\n",
       "      <td>Month-to-month</td>\n",
       "      <td>Electronic check</td>\n",
       "      <td>Yes</td>\n",
       "    </tr>\n",
       "  </tbody>\n",
       "</table>\n",
       "<p>2 rows × 25 columns</p>\n",
       "</div>"
      ],
      "text/plain": [
       "  CustomerID  TypeOfService_DeviceProtection  TypeOfService_HasPhoneService  \\\n",
       "0   Cust1205                               1                              1   \n",
       "1   Cust1213                               1                              1   \n",
       "\n",
       "   TypeOfService_InternetServiceCategory  TypeOfService_StreamingMovies  \\\n",
       "0                                      1                              0   \n",
       "1                                      1                              0   \n",
       "\n",
       "   TypeOfService_StreamingTelevision  TypeOfService_OnlineBackup  \\\n",
       "0                                  0                           0   \n",
       "1                                  0                           0   \n",
       "\n",
       "   TypeOfService_OnlineSecurity  TypeOfService_MultipleLines  \\\n",
       "0                             0                            0   \n",
       "1                             0                            0   \n",
       "\n",
       "   TypeOfService_TechnicalSupport  ...                 Education  Gender  \\\n",
       "0                               0  ...  ProfessionalQalification  Female   \n",
       "1                               0  ...  ProfessionalQalification  Female   \n",
       "\n",
       "   BaseCharges       DOC  TotalCharges       DOE ElectronicBilling  \\\n",
       "0        372.5  5-1-2012         372.5  6-Dec-11               Yes   \n",
       "1        397.0  5-1-2012       1223.25  7-Oct-11               Yes   \n",
       "\n",
       "     ContractType     PaymentMethod Churn  \n",
       "0  Month-to-month  Electronic check   Yes  \n",
       "1  Month-to-month  Electronic check   Yes  \n",
       "\n",
       "[2 rows x 25 columns]"
      ]
     },
     "execution_count": 22,
     "metadata": {},
     "output_type": "execute_result"
    }
   ],
   "source": [
    "#lets do downsampling as the data is highly imbalanced\n",
    "yes_train = train_account_demo[train_account_demo.Churn == \"Yes\"]\n",
    "yes_train.reset_index(inplace=True,drop=True)\n",
    "no_train = train_account_demo[train_account_demo.Churn == \"No\"]\n",
    "no_train.reset_index(inplace=True,drop=True)\n",
    "print(yes_train.shape)\n",
    "print(no_train.shape)\n",
    "no_train_1324 = no_train.sample(1324)\n",
    "train_final = yes_train.append(no_train_1324)\n",
    "print((train_final.shape))\n",
    "train_final.head(2)"
   ]
  },
  {
   "cell_type": "markdown",
   "metadata": {},
   "source": [
    "# Missing Value Imputation¶\n"
   ]
  },
  {
   "cell_type": "code",
   "execution_count": 23,
   "metadata": {},
   "outputs": [
    {
     "data": {
      "text/plain": [
       "CustomerID                               0\n",
       "TypeOfService_DeviceProtection           0\n",
       "TypeOfService_HasPhoneService            0\n",
       "TypeOfService_InternetServiceCategory    0\n",
       "TypeOfService_StreamingMovies            0\n",
       "TypeOfService_StreamingTelevision        0\n",
       "TypeOfService_OnlineBackup               0\n",
       "TypeOfService_OnlineSecurity             0\n",
       "TypeOfService_MultipleLines              0\n",
       "TypeOfService_TechnicalSupport           0\n",
       "Country                                  0\n",
       "State                                    0\n",
       "Retired                                  0\n",
       "HasPartner                               0\n",
       "HasDependents                            0\n",
       "Education                                6\n",
       "Gender                                   2\n",
       "BaseCharges                              0\n",
       "DOC                                      0\n",
       "TotalCharges                             2\n",
       "DOE                                      0\n",
       "ElectronicBilling                        0\n",
       "ContractType                             2\n",
       "PaymentMethod                            0\n",
       "Churn                                    0\n",
       "dtype: int64"
      ]
     },
     "execution_count": 23,
     "metadata": {},
     "output_type": "execute_result"
    }
   ],
   "source": [
    "#Number of missng values in each clumn\n",
    "train_final.isnull().sum()"
   ]
  },
  {
   "cell_type": "code",
   "execution_count": 24,
   "metadata": {},
   "outputs": [
    {
     "name": "stderr",
     "output_type": "stream",
     "text": [
      "/anaconda3/lib/python3.7/site-packages/ipykernel_launcher.py:5: SettingWithCopyWarning: \n",
      "A value is trying to be set on a copy of a slice from a DataFrame\n",
      "\n",
      "See the caveats in the documentation: http://pandas.pydata.org/pandas-docs/stable/user_guide/indexing.html#returning-a-view-versus-a-copy\n",
      "  \"\"\"\n"
     ]
    }
   ],
   "source": [
    "#now lets do missing value analysis\n",
    "train_final[train_final.Country == \"?\"]\n",
    "#there are only two records which have country as ?\n",
    "#it is evident from state that the country is INDIA\n",
    "train_final.Country[train_final.Country == \"?\"] = \"India\""
   ]
  },
  {
   "cell_type": "code",
   "execution_count": 25,
   "metadata": {},
   "outputs": [
    {
     "name": "stdout",
     "output_type": "stream",
     "text": [
      "Maharashtra    2644\n",
      "?                 4\n",
      "Name: State, dtype: int64\n"
     ]
    },
    {
     "data": {
      "text/html": [
       "<div>\n",
       "<style scoped>\n",
       "    .dataframe tbody tr th:only-of-type {\n",
       "        vertical-align: middle;\n",
       "    }\n",
       "\n",
       "    .dataframe tbody tr th {\n",
       "        vertical-align: top;\n",
       "    }\n",
       "\n",
       "    .dataframe thead th {\n",
       "        text-align: right;\n",
       "    }\n",
       "</style>\n",
       "<table border=\"1\" class=\"dataframe\">\n",
       "  <thead>\n",
       "    <tr style=\"text-align: right;\">\n",
       "      <th></th>\n",
       "      <th>CustomerID</th>\n",
       "      <th>TypeOfService_DeviceProtection</th>\n",
       "      <th>TypeOfService_HasPhoneService</th>\n",
       "      <th>TypeOfService_InternetServiceCategory</th>\n",
       "      <th>TypeOfService_StreamingMovies</th>\n",
       "      <th>TypeOfService_StreamingTelevision</th>\n",
       "      <th>TypeOfService_OnlineBackup</th>\n",
       "      <th>TypeOfService_OnlineSecurity</th>\n",
       "      <th>TypeOfService_MultipleLines</th>\n",
       "      <th>TypeOfService_TechnicalSupport</th>\n",
       "      <th>...</th>\n",
       "      <th>Education</th>\n",
       "      <th>Gender</th>\n",
       "      <th>BaseCharges</th>\n",
       "      <th>DOC</th>\n",
       "      <th>TotalCharges</th>\n",
       "      <th>DOE</th>\n",
       "      <th>ElectronicBilling</th>\n",
       "      <th>ContractType</th>\n",
       "      <th>PaymentMethod</th>\n",
       "      <th>Churn</th>\n",
       "    </tr>\n",
       "  </thead>\n",
       "  <tbody>\n",
       "    <tr>\n",
       "      <th>664</th>\n",
       "      <td>Cust3825</td>\n",
       "      <td>1</td>\n",
       "      <td>1</td>\n",
       "      <td>1</td>\n",
       "      <td>1</td>\n",
       "      <td>1</td>\n",
       "      <td>1</td>\n",
       "      <td>0</td>\n",
       "      <td>0</td>\n",
       "      <td>0</td>\n",
       "      <td>...</td>\n",
       "      <td>Graduation</td>\n",
       "      <td>Female</td>\n",
       "      <td>501.25</td>\n",
       "      <td>5-1-2012</td>\n",
       "      <td>11938.75</td>\n",
       "      <td>16-Dec-09</td>\n",
       "      <td>Yes</td>\n",
       "      <td>Month-to-month</td>\n",
       "      <td>Electronic check</td>\n",
       "      <td>Yes</td>\n",
       "    </tr>\n",
       "    <tr>\n",
       "      <th>1268</th>\n",
       "      <td>Cust6152</td>\n",
       "      <td>1</td>\n",
       "      <td>1</td>\n",
       "      <td>1</td>\n",
       "      <td>1</td>\n",
       "      <td>0</td>\n",
       "      <td>0</td>\n",
       "      <td>0</td>\n",
       "      <td>0</td>\n",
       "      <td>0</td>\n",
       "      <td>...</td>\n",
       "      <td>Masters</td>\n",
       "      <td>Female</td>\n",
       "      <td>276.00</td>\n",
       "      <td>5-1-2012</td>\n",
       "      <td>2641.75</td>\n",
       "      <td>11-Mar-11</td>\n",
       "      <td>No</td>\n",
       "      <td>Month-to-month</td>\n",
       "      <td>Credit card (automatic)</td>\n",
       "      <td>Yes</td>\n",
       "    </tr>\n",
       "    <tr>\n",
       "      <th>2342</th>\n",
       "      <td>Cust4344</td>\n",
       "      <td>1</td>\n",
       "      <td>1</td>\n",
       "      <td>0</td>\n",
       "      <td>0</td>\n",
       "      <td>0</td>\n",
       "      <td>0</td>\n",
       "      <td>0</td>\n",
       "      <td>0</td>\n",
       "      <td>0</td>\n",
       "      <td>...</td>\n",
       "      <td>Graduation</td>\n",
       "      <td>Female</td>\n",
       "      <td>131.50</td>\n",
       "      <td>5-1-2012</td>\n",
       "      <td>8817.75</td>\n",
       "      <td>6-May-06</td>\n",
       "      <td>Yes</td>\n",
       "      <td>One year</td>\n",
       "      <td>Electronic check</td>\n",
       "      <td>No</td>\n",
       "    </tr>\n",
       "    <tr>\n",
       "      <th>3289</th>\n",
       "      <td>Cust5619</td>\n",
       "      <td>1</td>\n",
       "      <td>1</td>\n",
       "      <td>0</td>\n",
       "      <td>0</td>\n",
       "      <td>0</td>\n",
       "      <td>0</td>\n",
       "      <td>0</td>\n",
       "      <td>0</td>\n",
       "      <td>0</td>\n",
       "      <td>...</td>\n",
       "      <td>Graduation</td>\n",
       "      <td>Female</td>\n",
       "      <td>155.25</td>\n",
       "      <td>5-1-2012</td>\n",
       "      <td>5631.75</td>\n",
       "      <td>20-Jan-09</td>\n",
       "      <td>No</td>\n",
       "      <td>Two year</td>\n",
       "      <td>Bank transfer (automatic)</td>\n",
       "      <td>No</td>\n",
       "    </tr>\n",
       "  </tbody>\n",
       "</table>\n",
       "<p>4 rows × 25 columns</p>\n",
       "</div>"
      ],
      "text/plain": [
       "     CustomerID  TypeOfService_DeviceProtection  \\\n",
       "664    Cust3825                               1   \n",
       "1268   Cust6152                               1   \n",
       "2342   Cust4344                               1   \n",
       "3289   Cust5619                               1   \n",
       "\n",
       "      TypeOfService_HasPhoneService  TypeOfService_InternetServiceCategory  \\\n",
       "664                               1                                      1   \n",
       "1268                              1                                      1   \n",
       "2342                              1                                      0   \n",
       "3289                              1                                      0   \n",
       "\n",
       "      TypeOfService_StreamingMovies  TypeOfService_StreamingTelevision  \\\n",
       "664                               1                                  1   \n",
       "1268                              1                                  0   \n",
       "2342                              0                                  0   \n",
       "3289                              0                                  0   \n",
       "\n",
       "      TypeOfService_OnlineBackup  TypeOfService_OnlineSecurity  \\\n",
       "664                            1                             0   \n",
       "1268                           0                             0   \n",
       "2342                           0                             0   \n",
       "3289                           0                             0   \n",
       "\n",
       "      TypeOfService_MultipleLines  TypeOfService_TechnicalSupport  ...  \\\n",
       "664                             0                               0  ...   \n",
       "1268                            0                               0  ...   \n",
       "2342                            0                               0  ...   \n",
       "3289                            0                               0  ...   \n",
       "\n",
       "       Education  Gender  BaseCharges       DOC  TotalCharges        DOE  \\\n",
       "664   Graduation  Female       501.25  5-1-2012      11938.75  16-Dec-09   \n",
       "1268     Masters  Female       276.00  5-1-2012       2641.75  11-Mar-11   \n",
       "2342  Graduation  Female       131.50  5-1-2012       8817.75   6-May-06   \n",
       "3289  Graduation  Female       155.25  5-1-2012       5631.75  20-Jan-09   \n",
       "\n",
       "     ElectronicBilling    ContractType              PaymentMethod Churn  \n",
       "664                Yes  Month-to-month           Electronic check   Yes  \n",
       "1268                No  Month-to-month    Credit card (automatic)   Yes  \n",
       "2342               Yes        One year           Electronic check    No  \n",
       "3289                No        Two year  Bank transfer (automatic)    No  \n",
       "\n",
       "[4 rows x 25 columns]"
      ]
     },
     "execution_count": 25,
     "metadata": {},
     "output_type": "execute_result"
    }
   ],
   "source": [
    "#having look at state values\n",
    "print(train_final.State.value_counts())\n",
    "train_final[train_final.State == \"?\"]"
   ]
  },
  {
   "cell_type": "code",
   "execution_count": 26,
   "metadata": {},
   "outputs": [
    {
     "name": "stderr",
     "output_type": "stream",
     "text": [
      "/anaconda3/lib/python3.7/site-packages/ipykernel_launcher.py:2: SettingWithCopyWarning: \n",
      "A value is trying to be set on a copy of a slice from a DataFrame\n",
      "\n",
      "See the caveats in the documentation: http://pandas.pydata.org/pandas-docs/stable/user_guide/indexing.html#returning-a-view-versus-a-copy\n",
      "  \n"
     ]
    }
   ],
   "source": [
    "#we can replace ? with maharastra as the whole data consists only maharashtra\n",
    "train_final.State[train_final.State == \"?\"] = \"Maharashtra\""
   ]
  },
  {
   "cell_type": "code",
   "execution_count": 27,
   "metadata": {},
   "outputs": [],
   "source": [
    "#as the NA values are less for other columns\n",
    "#replacing NA with mode for every column\n",
    "for column in train_final.columns:\n",
    "    train_final[column].fillna(train_final[column].mode()[0], inplace=True)"
   ]
  },
  {
   "cell_type": "code",
   "execution_count": 28,
   "metadata": {},
   "outputs": [
    {
     "name": "stderr",
     "output_type": "stream",
     "text": [
      "/anaconda3/lib/python3.7/site-packages/ipykernel_launcher.py:3: SettingWithCopyWarning: \n",
      "A value is trying to be set on a copy of a slice from a DataFrame\n",
      "\n",
      "See the caveats in the documentation: http://pandas.pydata.org/pandas-docs/stable/user_guide/indexing.html#returning-a-view-versus-a-copy\n",
      "  This is separate from the ipykernel package so we can avoid doing imports until\n"
     ]
    }
   ],
   "source": [
    "#replacing the MISSINGVAL in totalcharges column with the minimum value of the column i.e 100\n",
    "#print(train_final.TotalCharges.min())\n",
    "train_final.TotalCharges[train_final.TotalCharges == \"MISSINGVAL\"] =100\n",
    "#train_final['TotalCharges'] = train_final['TotalCharges'].map({'MISSINGVAL': 100})"
   ]
  },
  {
   "cell_type": "markdown",
   "metadata": {},
   "source": [
    "# Data Pre-processing"
   ]
  },
  {
   "cell_type": "code",
   "execution_count": 29,
   "metadata": {},
   "outputs": [],
   "source": [
    "#changing the dates to proper format at then creating a new attribute which will give the tenure of the customer\n",
    "train_final['DOC'] = pd.to_datetime(train_final['DOC'], format='%d-%m-%Y')\n",
    "\n",
    "train_final['DOE']=train_final.DOE.apply(\n",
    "    lambda x: pd.to_datetime(x).strftime('%d-%b-%Y'))\n",
    "\n",
    "train_final['DOE']=pd.to_datetime(train_final['DOE'], format='%d-%b-%Y')\n",
    "\n",
    "train_final['tenure'] = (train_final['DOC']-train_final['DOE']).dt.days\n"
   ]
  },
  {
   "cell_type": "code",
   "execution_count": 30,
   "metadata": {},
   "outputs": [],
   "source": [
    "#Now lets convert the dataframe columns into the respective format\n",
    "\n",
    "categoricalFeatureNames = [\"Country\",\"State\",\"Retired\",\"HasPartner\",\"HasDependents\",\"Education\", \"Gender\",\"ElectronicBilling\",\n",
    "                          \"ContractType\",\"PaymentMethod\"]\n",
    "\n",
    "#\"Retired\",\"HasPartner\",\"HasDependents\",\"Education\",\"Gender\",\"BaseCharges\",\"TotalCharges\",\n",
    "#                         \"ElectronicBilling\",\"ContractType\"\n",
    "\n",
    "\n",
    "numericalFeatureNames = [\"TotalCharges\",\"BaseCharges\",\"tenure\"]\n",
    "#these are the numerical attributes\n",
    "\n",
    "#convert the attributes listed above to categorical form\n",
    "for var in categoricalFeatureNames:\n",
    "    train_final[var] = train_final[var].astype(\"category\")\n",
    "    \n",
    "#convert the attributes listed above to categorical form\n",
    "for nar in numericalFeatureNames:\n",
    "    train_final[nar] = train_final[nar].astype(\"float64\")"
   ]
  },
  {
   "cell_type": "code",
   "execution_count": 31,
   "metadata": {},
   "outputs": [],
   "source": [
    "train_final['Churn'] = train_final['Churn'].map({'Yes': 1, 'No':0})\n",
    "y = train_final[['Churn']]"
   ]
  },
  {
   "cell_type": "code",
   "execution_count": 32,
   "metadata": {},
   "outputs": [],
   "source": [
    "train_final = pd.get_dummies(train_final, prefix=['Retired','HasPartner','HasDependents','Education','Gender','ElectronicBilling','ContractType','PaymentMethod'],\n",
    "               columns=['Retired','HasPartner','HasDependents','Education','Gender','ElectronicBilling','ContractType','PaymentMethod'])\n",
    "\n",
    "data_final = train_final.drop(['CustomerID','Country','State','DOC','DOE','Churn'], axis=1)"
   ]
  },
  {
   "cell_type": "code",
   "execution_count": 35,
   "metadata": {},
   "outputs": [],
   "source": [
    "#visualization on the typed of objects in dataframe\n",
    "dataTypeDf = pd.DataFrame(train_final.dtypes.value_counts()).reset_index().rename(columns={\"index\":\"variableType\",0:\"count\"})"
   ]
  },
  {
   "cell_type": "code",
   "execution_count": 38,
   "metadata": {},
   "outputs": [
    {
     "data": {
      "text/plain": [
       "<matplotlib.axes._subplots.AxesSubplot at 0x12e147358>"
      ]
     },
     "execution_count": 38,
     "metadata": {},
     "output_type": "execute_result"
    },
    {
     "data": {
      "image/png": "[encoded data removed]",
      "text/plain": [
       "<Figure size 432x288 with 1 Axes>"
      ]
     },
     "metadata": {
      "needs_background": "light"
     },
     "output_type": "display_data"
    }
   ],
   "source": [
    "sns.distplot(data_final.TotalCharges)"
   ]
  },
  {
   "cell_type": "code",
   "execution_count": 39,
   "metadata": {},
   "outputs": [
    {
     "data": {
      "text/plain": [
       "<matplotlib.axes._subplots.AxesSubplot at 0x12d661940>"
      ]
     },
     "execution_count": 39,
     "metadata": {},
     "output_type": "execute_result"
    },
    {
     "data": {
      "image/png": "[encoded data removed]",
      "text/plain": [
       "<Figure size 432x288 with 1 Axes>"
      ]
     },
     "metadata": {
      "needs_background": "light"
     },
     "output_type": "display_data"
    }
   ],
   "source": [
    "sns.distplot(data_final.BaseCharges)\n"
   ]
  },
  {
   "cell_type": "code",
   "execution_count": 40,
   "metadata": {},
   "outputs": [
    {
     "data": {
      "text/plain": [
       "<matplotlib.axes._subplots.AxesSubplot at 0x130fb4550>"
      ]
     },
     "execution_count": 40,
     "metadata": {},
     "output_type": "execute_result"
    },
    {
     "data": {
      "image/png": "[encoded data removed]",
      "text/plain": [
       "<Figure size 432x288 with 1 Axes>"
      ]
     },
     "metadata": {
      "needs_background": "light"
     },
     "output_type": "display_data"
    }
   ],
   "source": [
    "sns.distplot(data_final.tenure)"
   ]
  },
  {
   "cell_type": "markdown",
   "metadata": {},
   "source": [
    "# Test Data"
   ]
  },
  {
   "cell_type": "code",
   "execution_count": 41,
   "metadata": {},
   "outputs": [],
   "source": [
    "train = pd.read_csv(\"Test.csv\")\n",
    "Test_AccountInfo = pd.read_csv(\"Test_AccountInfo.csv\")\n",
    "Test_Demographics = pd.read_csv(\"Test_Demographics.csv\")\n",
    "Test_ServicesOptedFor = pd.read_csv(\"Test_ServicesOptedFor.csv\")"
   ]
  },
  {
   "cell_type": "code",
   "execution_count": 42,
   "metadata": {},
   "outputs": [],
   "source": [
    "#merging two dataframes with customerid attribute\n",
    "test_test_account= pd.merge(Test_AccountInfo,train,on=\"CustomerID\")\n",
    "#renaming a column to match\n",
    "Test_Demographics = Test_Demographics.rename(columns={ \"HouseholdID\" : \"CustomerID\"})\n",
    "#Train_Demographics['HouseholdID'] = \"CustomerID\"\n",
    "test_account_demo = pd.merge(Test_Demographics,test_test_account, on=\"CustomerID\")"
   ]
  },
  {
   "cell_type": "code",
   "execution_count": 43,
   "metadata": {},
   "outputs": [],
   "source": [
    "Test_ServicesOptedFor.SeviceDetails[Test_ServicesOptedFor.SeviceDetails == \"1\"] = \"Yes\"\n",
    "Test_ServicesOptedFor.SeviceDetails[Test_ServicesOptedFor.SeviceDetails == \"No internet service\"] = \"No\"\n",
    "Test_ServicesOptedFor.SeviceDetails[Test_ServicesOptedFor.SeviceDetails == \"0\"] = \"No\"\n",
    "Test_ServicesOptedFor.SeviceDetails[Test_ServicesOptedFor.SeviceDetails == \"Fiber optic\"] = \"Yes\"\n",
    "Test_ServicesOptedFor.SeviceDetails[Test_ServicesOptedFor.SeviceDetails == \"DSL\"] = \"Yes\"\n",
    "Test_ServicesOptedFor.SeviceDetails[Test_ServicesOptedFor.SeviceDetails == \"No phone service\"] = \"No\""
   ]
  },
  {
   "cell_type": "code",
   "execution_count": 44,
   "metadata": {},
   "outputs": [],
   "source": [
    "yes_test_service = Test_ServicesOptedFor[Test_ServicesOptedFor.SeviceDetails != 'No']\n",
    "yes_test_service = yes_test_service.sort_values(by=['TypeOfService'], ascending=['True'])\n",
    "fff = pd.get_dummies(yes_test_service, prefix=['TypeOfService'],\n",
    "               columns=['TypeOfService'])"
   ]
  },
  {
   "cell_type": "code",
   "execution_count": 45,
   "metadata": {},
   "outputs": [
    {
     "data": {
      "text/html": [
       "<div>\n",
       "<style scoped>\n",
       "    .dataframe tbody tr th:only-of-type {\n",
       "        vertical-align: middle;\n",
       "    }\n",
       "\n",
       "    .dataframe tbody tr th {\n",
       "        vertical-align: top;\n",
       "    }\n",
       "\n",
       "    .dataframe thead th {\n",
       "        text-align: right;\n",
       "    }\n",
       "</style>\n",
       "<table border=\"1\" class=\"dataframe\">\n",
       "  <thead>\n",
       "    <tr style=\"text-align: right;\">\n",
       "      <th></th>\n",
       "      <th>CustomerID</th>\n",
       "      <th>TypeOfService_DeviceProtection</th>\n",
       "      <th>TypeOfService_HasPhoneService</th>\n",
       "      <th>TypeOfService_InternetServiceCategory</th>\n",
       "      <th>TypeOfService_StreamingMovies</th>\n",
       "      <th>TypeOfService_StreamingTelevision</th>\n",
       "      <th>TypeOfService_OnlineBackup</th>\n",
       "      <th>TypeOfService_OnlineSecurity</th>\n",
       "      <th>TypeOfService_MultipleLines</th>\n",
       "      <th>TypeOfService_TechnicalSupport</th>\n",
       "      <th>...</th>\n",
       "      <th>HasDependents</th>\n",
       "      <th>Education</th>\n",
       "      <th>Gender</th>\n",
       "      <th>BaseCharges</th>\n",
       "      <th>DOC</th>\n",
       "      <th>TotalCharges</th>\n",
       "      <th>DOE</th>\n",
       "      <th>ElectronicBilling</th>\n",
       "      <th>ContractType</th>\n",
       "      <th>PaymentMethod</th>\n",
       "    </tr>\n",
       "  </thead>\n",
       "  <tbody>\n",
       "    <tr>\n",
       "      <th>0</th>\n",
       "      <td>Cust11201</td>\n",
       "      <td>1</td>\n",
       "      <td>1</td>\n",
       "      <td>1</td>\n",
       "      <td>1</td>\n",
       "      <td>0</td>\n",
       "      <td>0</td>\n",
       "      <td>0</td>\n",
       "      <td>0</td>\n",
       "      <td>0</td>\n",
       "      <td>...</td>\n",
       "      <td>2</td>\n",
       "      <td>Graduation</td>\n",
       "      <td>Male</td>\n",
       "      <td>284.75</td>\n",
       "      <td>5-1-2012</td>\n",
       "      <td>9447.5</td>\n",
       "      <td>21-Mar-09</td>\n",
       "      <td>No</td>\n",
       "      <td>One year</td>\n",
       "      <td>Mailed check</td>\n",
       "    </tr>\n",
       "    <tr>\n",
       "      <th>1</th>\n",
       "      <td>Cust11202</td>\n",
       "      <td>1</td>\n",
       "      <td>1</td>\n",
       "      <td>1</td>\n",
       "      <td>1</td>\n",
       "      <td>0</td>\n",
       "      <td>0</td>\n",
       "      <td>0</td>\n",
       "      <td>0</td>\n",
       "      <td>0</td>\n",
       "      <td>...</td>\n",
       "      <td>1</td>\n",
       "      <td>Masters</td>\n",
       "      <td>Male</td>\n",
       "      <td>280.75</td>\n",
       "      <td>5-1-2012</td>\n",
       "      <td>17439.75</td>\n",
       "      <td>2-Dec-06</td>\n",
       "      <td>No</td>\n",
       "      <td>One year</td>\n",
       "      <td>Bank transfer (automatic)</td>\n",
       "    </tr>\n",
       "  </tbody>\n",
       "</table>\n",
       "<p>2 rows × 24 columns</p>\n",
       "</div>"
      ],
      "text/plain": [
       "  CustomerID  TypeOfService_DeviceProtection  TypeOfService_HasPhoneService  \\\n",
       "0  Cust11201                               1                              1   \n",
       "1  Cust11202                               1                              1   \n",
       "\n",
       "   TypeOfService_InternetServiceCategory  TypeOfService_StreamingMovies  \\\n",
       "0                                      1                              1   \n",
       "1                                      1                              1   \n",
       "\n",
       "   TypeOfService_StreamingTelevision  TypeOfService_OnlineBackup  \\\n",
       "0                                  0                           0   \n",
       "1                                  0                           0   \n",
       "\n",
       "   TypeOfService_OnlineSecurity  TypeOfService_MultipleLines  \\\n",
       "0                             0                            0   \n",
       "1                             0                            0   \n",
       "\n",
       "   TypeOfService_TechnicalSupport  ... HasDependents   Education  Gender  \\\n",
       "0                               0  ...             2  Graduation    Male   \n",
       "1                               0  ...             1     Masters    Male   \n",
       "\n",
       "   BaseCharges       DOC TotalCharges        DOE  ElectronicBilling  \\\n",
       "0       284.75  5-1-2012       9447.5  21-Mar-09                 No   \n",
       "1       280.75  5-1-2012     17439.75   2-Dec-06                 No   \n",
       "\n",
       "  ContractType              PaymentMethod  \n",
       "0     One year               Mailed check  \n",
       "1     One year  Bank transfer (automatic)  \n",
       "\n",
       "[2 rows x 24 columns]"
      ]
     },
     "execution_count": 45,
     "metadata": {},
     "output_type": "execute_result"
    }
   ],
   "source": [
    "xxx = fff.groupby('CustomerID')['SeviceDetails'].apply(lambda x: pd.DataFrame(x.values)).unstack().reset_index()\n",
    "xxx.columns = xxx.columns.droplevel()\n",
    "xxx.columns = ['CustomerID','TypeOfService_DeviceProtection', 'TypeOfService_HasPhoneService', \n",
    "              'TypeOfService_InternetServiceCategory','TypeOfService_StreamingMovies','TypeOfService_StreamingTelevision',\n",
    "              'TypeOfService_OnlineBackup','TypeOfService_OnlineSecurity',\n",
    "             'TypeOfService_MultipleLines',\n",
    "              'TypeOfService_TechnicalSupport']\n",
    "xxx = xxx.replace({'Yes': 1, None: 0})\n",
    "test_account_demo = pd.merge(xxx,test_account_demo, on=\"CustomerID\",how='inner')\n",
    "test_account_demo.head(2)"
   ]
  },
  {
   "cell_type": "code",
   "execution_count": 46,
   "metadata": {},
   "outputs": [
    {
     "data": {
      "text/plain": [
       "CustomerID                               0\n",
       "TypeOfService_DeviceProtection           0\n",
       "TypeOfService_HasPhoneService            0\n",
       "TypeOfService_InternetServiceCategory    0\n",
       "TypeOfService_StreamingMovies            0\n",
       "TypeOfService_StreamingTelevision        0\n",
       "TypeOfService_OnlineBackup               0\n",
       "TypeOfService_OnlineSecurity             0\n",
       "TypeOfService_MultipleLines              0\n",
       "TypeOfService_TechnicalSupport           0\n",
       "Country                                  0\n",
       "State                                    0\n",
       "Retired                                  0\n",
       "HasPartner                               0\n",
       "HasDependents                            0\n",
       "Education                                4\n",
       "Gender                                   1\n",
       "BaseCharges                              0\n",
       "DOC                                      0\n",
       "TotalCharges                             0\n",
       "DOE                                      0\n",
       "ElectronicBilling                        0\n",
       "ContractType                             1\n",
       "PaymentMethod                            0\n",
       "dtype: int64"
      ]
     },
     "execution_count": 46,
     "metadata": {},
     "output_type": "execute_result"
    }
   ],
   "source": [
    "test_account_demo.isnull().sum()"
   ]
  },
  {
   "cell_type": "code",
   "execution_count": 47,
   "metadata": {},
   "outputs": [],
   "source": [
    "#as the NA values are less \n",
    "#replacing NA with mode for every column\n",
    "for column in test_account_demo.columns:\n",
    "    test_account_demo[column].fillna(test_account_demo[column].mode()[0], inplace=True)\n"
   ]
  },
  {
   "cell_type": "code",
   "execution_count": 48,
   "metadata": {},
   "outputs": [
    {
     "name": "stderr",
     "output_type": "stream",
     "text": [
      "/anaconda3/lib/python3.7/site-packages/ipykernel_launcher.py:1: SettingWithCopyWarning: \n",
      "A value is trying to be set on a copy of a slice from a DataFrame\n",
      "\n",
      "See the caveats in the documentation: http://pandas.pydata.org/pandas-docs/stable/user_guide/indexing.html#returning-a-view-versus-a-copy\n",
      "  \"\"\"Entry point for launching an IPython kernel.\n",
      "/anaconda3/lib/python3.7/site-packages/ipykernel_launcher.py:2: SettingWithCopyWarning: \n",
      "A value is trying to be set on a copy of a slice from a DataFrame\n",
      "\n",
      "See the caveats in the documentation: http://pandas.pydata.org/pandas-docs/stable/user_guide/indexing.html#returning-a-view-versus-a-copy\n",
      "  \n"
     ]
    }
   ],
   "source": [
    "test_account_demo.Country[test_account_demo.Country == \"?\"] = \"India\"\n",
    "test_account_demo.TotalCharges[test_account_demo.TotalCharges == \"MISSINGVAL\"] = 100"
   ]
  },
  {
   "cell_type": "code",
   "execution_count": 49,
   "metadata": {},
   "outputs": [],
   "source": [
    "#changing the dates to proper format at then creating a new attribute which will give the tenure of the customer\n",
    "test_account_demo['DOC'] = pd.to_datetime(test_account_demo['DOC'], format='%d-%m-%Y')\n",
    "\n",
    "test_account_demo['DOE']=test_account_demo.DOE.apply(\n",
    "    lambda x: pd.to_datetime(x).strftime('%d-%b-%Y'))\n",
    "\n",
    "test_account_demo['DOE']=pd.to_datetime(test_account_demo['DOE'], format='%d-%b-%Y')\n",
    "\n",
    "test_account_demo['tenure'] = (test_account_demo['DOC']-test_account_demo['DOE']).dt.days"
   ]
  },
  {
   "cell_type": "code",
   "execution_count": 50,
   "metadata": {},
   "outputs": [],
   "source": [
    "#Now lets convert the dataframe columns into the respective format\n",
    "\n",
    "categoricalFeatureNames = [\"Country\",\"State\",\"Retired\",\"HasPartner\",\"HasDependents\",\"Education\", \"Gender\",\"ElectronicBilling\",\n",
    "                          \"ContractType\",\"PaymentMethod\"]\n",
    "\n",
    "#\"Retired\",\"HasPartner\",\"HasDependents\",\"Education\",\"Gender\",\"BaseCharges\",\"TotalCharges\",\n",
    "#                         \"ElectronicBilling\",\"ContractType\"\n",
    "\n",
    "\n",
    "numericalFeatureNames = [\"TotalCharges\",\"BaseCharges\",\"tenure\"]\n",
    "#these are the numerical attributes\n",
    "\n",
    "#convert the attributes listed above to categorical form\n",
    "for var in categoricalFeatureNames:\n",
    "    test_account_demo[var] = test_account_demo[var].astype(\"category\")\n",
    "    \n",
    "#convert the attributes listed above to categorical form\n",
    "for nar in numericalFeatureNames:\n",
    "    test_account_demo[nar] = test_account_demo[nar].astype(\"float64\")"
   ]
  },
  {
   "cell_type": "code",
   "execution_count": 51,
   "metadata": {},
   "outputs": [],
   "source": [
    "test_account_demo = pd.get_dummies(test_account_demo, prefix=['Retired','HasPartner','HasDependents','Education','Gender','ElectronicBilling','ContractType','PaymentMethod'],\n",
    "               columns=['Retired','HasPartner','HasDependents','Education','Gender','ElectronicBilling','ContractType','PaymentMethod'])\n",
    "\n",
    "test_final = test_account_demo.drop(['CustomerID','Country','State','DOC','DOE'], axis=1)\n",
    "test_final['PaymentMethod_Credit card (automatic)'] = 0"
   ]
  },
  {
   "cell_type": "code",
   "execution_count": 52,
   "metadata": {},
   "outputs": [
    {
     "data": {
      "text/plain": [
       "(1769, 34)"
      ]
     },
     "execution_count": 52,
     "metadata": {},
     "output_type": "execute_result"
    }
   ],
   "source": [
    "test_final.shape\n"
   ]
  },
  {
   "cell_type": "code",
   "execution_count": 55,
   "metadata": {},
   "outputs": [],
   "source": [
    "from sklearn.model_selection import train_test_split"
   ]
  },
  {
   "cell_type": "code",
   "execution_count": 56,
   "metadata": {},
   "outputs": [
    {
     "name": "stdout",
     "output_type": "stream",
     "text": [
      "(1986, 34)\n",
      "(662, 34)\n",
      "(1986, 1)\n",
      "(662, 1)\n"
     ]
    }
   ],
   "source": [
    "X_train, X_test, y_train, y_test = train_test_split(data_final, y, random_state=1)\n",
    "print(X_train.shape)\n",
    "print(X_test.shape)\n",
    "print(y_train.shape)\n",
    "print(y_test.shape)"
   ]
  },
  {
   "cell_type": "markdown",
   "metadata": {},
   "source": [
    "# Random Forest"
   ]
  },
  {
   "cell_type": "code",
   "execution_count": 57,
   "metadata": {},
   "outputs": [
    {
     "name": "stderr",
     "output_type": "stream",
     "text": [
      "/anaconda3/lib/python3.7/site-packages/ipykernel_launcher.py:4: DataConversionWarning: A column-vector y was passed when a 1d array was expected. Please change the shape of y to (n_samples,), for example using ravel().\n",
      "  after removing the cwd from sys.path.\n"
     ]
    },
    {
     "data": {
      "text/plain": [
       "RandomForestClassifier(bootstrap=True, class_weight=None, criterion='gini',\n",
       "                       max_depth=None, max_features='auto', max_leaf_nodes=None,\n",
       "                       min_impurity_decrease=0.0, min_impurity_split=None,\n",
       "                       min_samples_leaf=1, min_samples_split=2,\n",
       "                       min_weight_fraction_leaf=0.0, n_estimators=600,\n",
       "                       n_jobs=None, oob_score=False, random_state=None,\n",
       "                       verbose=0, warm_start=False)"
      ]
     },
     "execution_count": 57,
     "metadata": {},
     "output_type": "execute_result"
    }
   ],
   "source": [
    "#initializing reandom forest\n",
    "from sklearn.ensemble import RandomForestClassifier\n",
    "RF_clf = RandomForestClassifier(n_estimators=600)\n",
    "RF_clf.fit(X_train, y_train)\n"
   ]
  },
  {
   "cell_type": "code",
   "execution_count": 58,
   "metadata": {},
   "outputs": [
    {
     "name": "stdout",
     "output_type": "stream",
     "text": [
      "              precision    recall  f1-score   support\n",
      "\n",
      "           0       0.77      0.74      0.76       336\n",
      "           1       0.74      0.78      0.76       326\n",
      "\n",
      "    accuracy                           0.76       662\n",
      "   macro avg       0.76      0.76      0.76       662\n",
      "weighted avg       0.76      0.76      0.76       662\n",
      "\n",
      "0.7583081570996979\n"
     ]
    }
   ],
   "source": [
    "#predicting on train and test data\n",
    "#RF_clf.fit(X_train_dtm, y_train)\n",
    "y_rf_pred_test = RF_clf.predict(X_test)\n",
    "y_rf_pred_train = RF_clf.predict(X_train)\n",
    "from sklearn.metrics import classification_report\n",
    "from sklearn.metrics import confusion_matrix\n",
    "print(classification_report(y_test, y_rf_pred_test))\n",
    "#confusion_matrix = confusion_matrix(y_test, y_rf_pred_test)\n",
    "#print(confusion_matrix)\n",
    "print(metrics.accuracy_score(y_test, y_rf_pred_test))"
   ]
  },
  {
   "cell_type": "code",
   "execution_count": 59,
   "metadata": {},
   "outputs": [
    {
     "data": {
      "text/plain": [
       "<matplotlib.axes._subplots.AxesSubplot at 0x12d992a58>"
      ]
     },
     "execution_count": 59,
     "metadata": {},
     "output_type": "execute_result"
    },
    {
     "data": {
      "image/png": "[encoded data removed]",
      "text/plain": [
       "<Figure size 432x288 with 2 Axes>"
      ]
     },
     "metadata": {},
     "output_type": "display_data"
    }
   ],
   "source": [
    "cm = metrics.confusion_matrix(y_test, y_rf_pred_test)\n",
    "sns.set(font_scale=1.4)#for label size\n",
    "sns.heatmap(cm,annot=True,annot_kws={\"size\": 16})# font size"
   ]
  },
  {
   "cell_type": "code",
   "execution_count": 60,
   "metadata": {},
   "outputs": [
    {
     "name": "stderr",
     "output_type": "stream",
     "text": [
      "/anaconda3/lib/python3.7/site-packages/ipykernel_launcher.py:6: SettingWithCopyWarning: \n",
      "A value is trying to be set on a copy of a slice from a DataFrame.\n",
      "Try using .loc[row_indexer,col_indexer] = value instead\n",
      "\n",
      "See the caveats in the documentation: http://pandas.pydata.org/pandas-docs/stable/user_guide/indexing.html#returning-a-view-versus-a-copy\n",
      "  \n",
      "/anaconda3/lib/python3.7/site-packages/ipykernel_launcher.py:7: SettingWithCopyWarning: \n",
      "A value is trying to be set on a copy of a slice from a DataFrame.\n",
      "Try using .loc[row_indexer,col_indexer] = value instead\n",
      "\n",
      "See the caveats in the documentation: http://pandas.pydata.org/pandas-docs/stable/user_guide/indexing.html#returning-a-view-versus-a-copy\n",
      "  import sys\n"
     ]
    }
   ],
   "source": [
    "probs_rf = RF_clf.predict_proba(test_final)\n",
    "probs = probs_rf[:,1]  #taking a column\n",
    "probs[probs > 0.25] =1  #setting thresholds\n",
    "probs[probs <= 0.25] = 0\n",
    "submission = test_account_demo[[\"CustomerID\"]]\n",
    "submission['Churn'] = probs\n",
    "submission['Churn'] = submission['Churn'].map({1:\"Yes\",0:\"No\"})\n",
    "#train_final['Churn'] = train_final['Churn'].map({'Yes': 1, 'No':0})\n",
    "submission.to_csv(\"predictions.csv\",index=False)"
   ]
  },
  {
   "cell_type": "code",
   "execution_count": 61,
   "metadata": {},
   "outputs": [
    {
     "name": "stdout",
     "output_type": "stream",
     "text": [
      "0.756797583081571\n",
      "              precision    recall  f1-score   support\n",
      "\n",
      "           0       0.73      0.83      0.78       336\n",
      "           1       0.80      0.68      0.73       326\n",
      "\n",
      "    accuracy                           0.76       662\n",
      "   macro avg       0.76      0.76      0.75       662\n",
      "weighted avg       0.76      0.76      0.76       662\n",
      "\n"
     ]
    }
   ],
   "source": [
    "y_rf_pred_train = RF_clf.predict(X_train)\n",
    "jj = RF_clf.predict_proba(X_test)\n",
    "probs_rf = jj[:,1]  #taking a column\n",
    "probs_rf[probs_rf > 0.60] =1  #setting thresholds\n",
    "probs_rf[probs_rf <= 0.60] = 0\n",
    "y_rf_pred_test = RF_clf.predict(X_test)\n",
    "print(metrics.accuracy_score(y_test, probs_rf))\n",
    "print(classification_report(y_test, probs_rf))"
   ]
  },
  {
   "cell_type": "markdown",
   "metadata": {},
   "source": [
    "# Logistic regression"
   ]
  },
  {
   "cell_type": "code",
   "execution_count": 62,
   "metadata": {},
   "outputs": [],
   "source": [
    "from sklearn.linear_model import LogisticRegression\n",
    "seed=12\n",
    "logreg = LogisticRegression(C=1, random_state=12, class_weight='balanced')"
   ]
  },
  {
   "cell_type": "code",
   "execution_count": 63,
   "metadata": {},
   "outputs": [
    {
     "name": "stderr",
     "output_type": "stream",
     "text": [
      "/Users/rasheshkothari/.local/lib/python3.7/site-packages/sklearn/linear_model/logistic.py:432: FutureWarning: Default solver will be changed to 'lbfgs' in 0.22. Specify a solver to silence this warning.\n",
      "  FutureWarning)\n",
      "/Users/rasheshkothari/.local/lib/python3.7/site-packages/sklearn/utils/validation.py:724: DataConversionWarning: A column-vector y was passed when a 1d array was expected. Please change the shape of y to (n_samples, ), for example using ravel().\n",
      "  y = column_or_1d(y, warn=True)\n"
     ]
    },
    {
     "data": {
      "text/plain": [
       "LogisticRegression(C=1, class_weight='balanced', dual=False, fit_intercept=True,\n",
       "                   intercept_scaling=1, l1_ratio=None, max_iter=100,\n",
       "                   multi_class='warn', n_jobs=None, penalty='l2',\n",
       "                   random_state=12, solver='warn', tol=0.0001, verbose=0,\n",
       "                   warm_start=False)"
      ]
     },
     "execution_count": 63,
     "metadata": {},
     "output_type": "execute_result"
    }
   ],
   "source": [
    "logreg.fit(X_train, y_train)\n"
   ]
  },
  {
   "cell_type": "code",
   "execution_count": 64,
   "metadata": {},
   "outputs": [
    {
     "data": {
      "image/png": "[encoded data removed]",
      "text/plain": [
       "<Figure size 432x288 with 1 Axes>"
      ]
     },
     "metadata": {},
     "output_type": "display_data"
    }
   ],
   "source": [
    "from sklearn.metrics import roc_auc_score\n",
    "from sklearn.metrics import roc_curve\n",
    "logit_roc_auc = roc_auc_score(y_test, logreg.predict(X_test))\n",
    "fpr, tpr, thresholds = roc_curve(y, logreg.predict_proba(data_final)[:,1])\n",
    "plt.figure()\n",
    "plt.plot(fpr, tpr, label='Logistic Regression (area = %0.2f)' % logit_roc_auc)\n",
    "plt.plot([0, 1], [0, 1],'r--')\n",
    "plt.xlim([0.0, 1.0])\n",
    "plt.ylim([0.0, 1.05])\n",
    "plt.xlabel('False Positive Rate')\n",
    "plt.ylabel('True Positive Rate')\n",
    "plt.title('Receiver operating characteristic')\n",
    "plt.legend(loc=\"lower right\")\n",
    "plt.savefig('Log_ROC')\n",
    "plt.show()"
   ]
  },
  {
   "cell_type": "code",
   "execution_count": 65,
   "metadata": {},
   "outputs": [
    {
     "name": "stdout",
     "output_type": "stream",
     "text": [
      "0.7583081570996979\n",
      "              precision    recall  f1-score   support\n",
      "\n",
      "           0       0.74      0.80      0.77       336\n",
      "           1       0.77      0.72      0.75       326\n",
      "\n",
      "    accuracy                           0.76       662\n",
      "   macro avg       0.76      0.76      0.76       662\n",
      "weighted avg       0.76      0.76      0.76       662\n",
      "\n"
     ]
    }
   ],
   "source": [
    "y_log_pred_train = logreg.predict(X_train)\n",
    "ii = logreg.predict_proba(X_test)\n",
    "probs_log = ii[:,1]  #taking a column\n",
    "probs_log[probs_log > 0.6] =1  #setting thresholds\n",
    "probs_log[probs_log <= 0.60] = 0\n",
    "y_log_pred_test = logreg.predict(X_test)\n",
    "print(metrics.accuracy_score(y_test, probs_log))\n",
    "print(classification_report(y_test, probs_log))"
   ]
  },
  {
   "cell_type": "markdown",
   "metadata": {},
   "source": [
    "with 0.35 accuracy is 73 and recall is 89%"
   ]
  },
  {
   "cell_type": "code",
   "execution_count": 66,
   "metadata": {},
   "outputs": [
    {
     "name": "stdout",
     "output_type": "stream",
     "text": [
      "0.7099697885196374\n",
      "              precision    recall  f1-score   support\n",
      "\n",
      "           0       0.90      0.48      0.63       336\n",
      "           1       0.64      0.94      0.76       326\n",
      "\n",
      "    accuracy                           0.71       662\n",
      "   macro avg       0.77      0.71      0.70       662\n",
      "weighted avg       0.77      0.71      0.69       662\n",
      "\n"
     ]
    }
   ],
   "source": [
    "y_log_pred_train = logreg.predict(X_train)\n",
    "ii = logreg.predict_proba(X_test)\n",
    "probs_log = ii[:,1]  #taking a column\n",
    "probs_log[probs_log > 0.25] =1  #setting thresholds\n",
    "probs_log[probs_log <= 0.25] = 0\n",
    "y_log_pred_test = logreg.predict(X_test)\n",
    "print(metrics.accuracy_score(y_test, probs_log))\n",
    "print(classification_report(y_test, probs_log))"
   ]
  },
  {
   "cell_type": "markdown",
   "metadata": {},
   "source": [
    "# Decision Tree"
   ]
  },
  {
   "cell_type": "code",
   "execution_count": 76,
   "metadata": {},
   "outputs": [
    {
     "name": "stdout",
     "output_type": "stream",
     "text": [
      "Collecting package metadata (repodata.json): done\n",
      "Solving environment: done\n",
      "\n",
      "# All requested packages already installed.\n",
      "\n"
     ]
    }
   ],
   "source": [
    "!conda install -c conda-forge graphviz --yes "
   ]
  },
  {
   "cell_type": "code",
   "execution_count": 80,
   "metadata": {},
   "outputs": [],
   "source": [
    "from sklearn import tree\n",
    "clf = tree.DecisionTreeClassifier()\n",
    "clf = clf.fit(data_final, y)"
   ]
  },
  {
   "cell_type": "code",
   "execution_count": 81,
   "metadata": {},
   "outputs": [
    {
     "data": {
      "text/plain": [
       "DecisionTreeClassifier(class_weight=None, criterion='gini', max_depth=None,\n",
       "                       max_features=None, max_leaf_nodes=None,\n",
       "                       min_impurity_decrease=0.0, min_impurity_split=None,\n",
       "                       min_samples_leaf=1, min_samples_split=2,\n",
       "                       min_weight_fraction_leaf=0.0, presort=False,\n",
       "                       random_state=None, splitter='best')"
      ]
     },
     "execution_count": 81,
     "metadata": {},
     "output_type": "execute_result"
    }
   ],
   "source": [
    "clf"
   ]
  },
  {
   "cell_type": "markdown",
   "metadata": {},
   "source": [
    "# With Standardization"
   ]
  },
  {
   "cell_type": "code",
   "execution_count": 82,
   "metadata": {},
   "outputs": [
    {
     "name": "stderr",
     "output_type": "stream",
     "text": [
      "/anaconda3/lib/python3.7/site-packages/ipykernel_launcher.py:2: FutureWarning: Sorting because non-concatenation axis is not aligned. A future version\n",
      "of pandas will change to not sort by default.\n",
      "\n",
      "To accept the future behavior, pass 'sort=False'.\n",
      "\n",
      "To retain the current behavior and silence the warning, pass 'sort=True'.\n",
      "\n",
      "  \n"
     ]
    },
    {
     "data": {
      "text/plain": [
       "(2648, 34)"
      ]
     },
     "execution_count": 82,
     "metadata": {},
     "output_type": "execute_result"
    }
   ],
   "source": [
    "#combining train and test data to do standardizing for numerical attributes\n",
    "ff = pd.concat([data_final,test_final],ignore_index=True)\n",
    "yy =  ff[['tenure','TotalCharges','BaseCharges']]\n",
    "\n",
    "from sklearn import preprocessing\n",
    "x = yy.values #returns a numpy array\n",
    "min_max_scaler = preprocessing.MinMaxScaler()\n",
    "x_scaled = min_max_scaler.fit_transform(x)\n",
    "df = pd.DataFrame(x_scaled)\n",
    "df.columns = ['tenure','TotalCharges','BaseCharges']\n",
    "ff['tenure'] = df['tenure']\n",
    "ff['TotalCharges'] = df['TotalCharges']\n",
    "ff['BaseCharges'] = df['BaseCharges']\n",
    "jj = ff.head(2648)\n",
    "jj.shape"
   ]
  },
  {
   "cell_type": "code",
   "execution_count": 83,
   "metadata": {},
   "outputs": [
    {
     "name": "stdout",
     "output_type": "stream",
     "text": [
      "(1986, 34)\n",
      "(662, 34)\n",
      "(1986, 1)\n",
      "(662, 1)\n"
     ]
    }
   ],
   "source": [
    "X_train, X_test, y_train, y_test = train_test_split(jj, y, random_state=1)\n",
    "print(X_train.shape)\n",
    "print(X_test.shape)\n",
    "print(y_train.shape)\n",
    "print(y_test.shape)"
   ]
  },
  {
   "cell_type": "code",
   "execution_count": 84,
   "metadata": {},
   "outputs": [
    {
     "name": "stderr",
     "output_type": "stream",
     "text": [
      "/anaconda3/lib/python3.7/site-packages/ipykernel_launcher.py:3: DataConversionWarning: A column-vector y was passed when a 1d array was expected. Please change the shape of y to (n_samples,), for example using ravel().\n",
      "  This is separate from the ipykernel package so we can avoid doing imports until\n"
     ]
    },
    {
     "data": {
      "text/plain": [
       "RandomForestClassifier(bootstrap=True, class_weight=None, criterion='gini',\n",
       "                       max_depth=None, max_features='auto', max_leaf_nodes=None,\n",
       "                       min_impurity_decrease=0.0, min_impurity_split=None,\n",
       "                       min_samples_leaf=1, min_samples_split=2,\n",
       "                       min_weight_fraction_leaf=0.0, n_estimators=600,\n",
       "                       n_jobs=None, oob_score=False, random_state=None,\n",
       "                       verbose=0, warm_start=False)"
      ]
     },
     "execution_count": 84,
     "metadata": {},
     "output_type": "execute_result"
    }
   ],
   "source": [
    "from sklearn.ensemble import RandomForestClassifier\n",
    "RF_clf = RandomForestClassifier(n_estimators=600)\n",
    "RF_clf.fit(X_train, y_train)"
   ]
  },
  {
   "cell_type": "code",
   "execution_count": 86,
   "metadata": {},
   "outputs": [
    {
     "name": "stdout",
     "output_type": "stream",
     "text": [
      "              precision    recall  f1-score   support\n",
      "\n",
      "           0       0.77      0.75      0.76       336\n",
      "           1       0.75      0.77      0.76       326\n",
      "\n",
      "    accuracy                           0.76       662\n",
      "   macro avg       0.76      0.76      0.76       662\n",
      "weighted avg       0.76      0.76      0.76       662\n",
      "\n",
      "0.7598187311178247\n"
     ]
    }
   ],
   "source": [
    "#predicting on train and test data\n",
    "#RF_clf.fit(X_train_dtm, y_train)\n",
    "y_rf_pred_test = RF_clf.predict(X_test)\n",
    "y_rf_pred_train = RF_clf.predict(X_train)\n",
    "from sklearn.metrics import classification_report\n",
    "from sklearn.metrics import confusion_matrix\n",
    "print(classification_report(y_test, y_rf_pred_test))\n",
    "#confusion_matrix = confusion_matrix(y_test, y_rf_pred_test)\n",
    "#print(confusion_matrix)\n",
    "print(metrics.accuracy_score(y_test, y_rf_pred_test))"
   ]
  },
  {
   "cell_type": "code",
   "execution_count": 87,
   "metadata": {},
   "outputs": [
    {
     "data": {
      "text/plain": [
       "<matplotlib.axes._subplots.AxesSubplot at 0x13415f630>"
      ]
     },
     "execution_count": 87,
     "metadata": {},
     "output_type": "execute_result"
    },
    {
     "data": {
      "image/png": "[encoded data removed]",
      "text/plain": [
       "<Figure size 432x288 with 2 Axes>"
      ]
     },
     "metadata": {},
     "output_type": "display_data"
    }
   ],
   "source": [
    "cm = metrics.confusion_matrix(y_test, y_rf_pred_test)\n",
    "sns.set(font_scale=1.4)#for label size\n",
    "sns.heatmap(cm,annot=True,annot_kws={\"size\": 16})# font size"
   ]
  },
  {
   "cell_type": "code",
   "execution_count": 88,
   "metadata": {},
   "outputs": [
    {
     "name": "stderr",
     "output_type": "stream",
     "text": [
      "/anaconda3/lib/python3.7/site-packages/ipykernel_launcher.py:6: SettingWithCopyWarning: \n",
      "A value is trying to be set on a copy of a slice from a DataFrame.\n",
      "Try using .loc[row_indexer,col_indexer] = value instead\n",
      "\n",
      "See the caveats in the documentation: http://pandas.pydata.org/pandas-docs/stable/user_guide/indexing.html#returning-a-view-versus-a-copy\n",
      "  \n",
      "/anaconda3/lib/python3.7/site-packages/ipykernel_launcher.py:7: SettingWithCopyWarning: \n",
      "A value is trying to be set on a copy of a slice from a DataFrame.\n",
      "Try using .loc[row_indexer,col_indexer] = value instead\n",
      "\n",
      "See the caveats in the documentation: http://pandas.pydata.org/pandas-docs/stable/user_guide/indexing.html#returning-a-view-versus-a-copy\n",
      "  import sys\n"
     ]
    }
   ],
   "source": [
    "probs_rf = RF_clf.predict_proba(test_final)\n",
    "probs = probs_rf[:,1]  #taking a column\n",
    "probs[probs > 0.5] =1  #setting thresholds\n",
    "probs[probs <= 0.5] = 0\n",
    "submission = test_account_demo[[\"CustomerID\"]]\n",
    "submission['Churn'] = probs\n",
    "submission['Churn'] = submission['Churn'].map({1:\"Yes\",0:\"No\"})\n",
    "#train_final['Churn'] = train_final['Churn'].map({'Yes': 1, 'No':0})\n",
    "#submission.to_csv(\"predictions.csv\",index=False)"
   ]
  },
  {
   "cell_type": "code",
   "execution_count": null,
   "metadata": {},
   "outputs": [],
   "source": []
  }
 ],
 "metadata": {
  "kernelspec": {
   "display_name": "Python 3",
   "language": "python",
   "name": "python3"
  },
  "language_info": {
   "codemirror_mode": {
    "name": "ipython",
    "version": 3
   },
   "file_extension": ".py",
   "mimetype": "text/x-python",
   "name": "python",
   "nbconvert_exporter": "python",
   "pygments_lexer": "ipython3",
   "version": "3.7.1"
  }
 },
 "nbformat": 4,
 "nbformat_minor": 2
}
